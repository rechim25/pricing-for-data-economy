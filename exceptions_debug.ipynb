{
 "cells": [
  {
   "cell_type": "code",
   "execution_count": 8,
   "metadata": {},
   "outputs": [],
   "source": [
    "import csv\n",
    "import os\n",
    "import numpy as np\n",
    "import pandas as pd\n",
    "import polars as pl\n",
    "import matplotlib.pyplot as plt\n",
    "import seaborn as sns\n",
    "import time\n",
    "import dataprofiler as dp\n",
    "from kaggle.api.kaggle_api_extended import KaggleApi\n",
    "from dataprofiler.data_readers.csv_data import CSVData\n",
    "api = KaggleApi()\n",
    "api.authenticate()"
   ]
  },
  {
   "cell_type": "code",
   "execution_count": 2,
   "metadata": {},
   "outputs": [],
   "source": [
    "# Profilers options (disable unused features to reduce compute time)\n",
    "profiler_options = dp.ProfilerOptions()\n",
    "# # Structured options\n",
    "profiler_options.structured_options.multiprocess.is_enabled = False\n",
    "profiler_options.structured_options.chi2_homogeneity.is_enabled = False\n",
    "# # # Numerical (int, float)\n",
    "# # # # Integer\n",
    "profiler_options.structured_options.int.min.is_enabled = False\n",
    "profiler_options.structured_options.int.max.is_enabled = False\n",
    "profiler_options.structured_options.int.num_zeros.is_enabled = False\n",
    "profiler_options.structured_options.int.num_negatives.is_enabled = False\n",
    "profiler_options.structured_options.int.bias_correction.is_enabled = False\n",
    "# # # # Float\n",
    "profiler_options.structured_options.float.min.is_enabled = False\n",
    "profiler_options.structured_options.float.max.is_enabled = False\n",
    "profiler_options.structured_options.float.num_zeros.is_enabled = False\n",
    "profiler_options.structured_options.float.num_negatives.is_enabled = False\n",
    "profiler_options.structured_options.float.bias_correction.is_enabled = False\n",
    "# # # Text\n",
    "profiler_options.structured_options.text.vocab.is_enabled = False\n",
    "profiler_options.structured_options.text.min.is_enabled = False\n",
    "profiler_options.structured_options.text.max.is_enabled = False\n",
    "profiler_options.structured_options.text.mode.is_enabled = False\n",
    "profiler_options.structured_options.text.median.is_enabled = False\n",
    "profiler_options.structured_options.text.sum.is_enabled = False\n",
    "profiler_options.structured_options.text.variance.is_enabled = False\n",
    "profiler_options.structured_options.text.skewness.is_enabled = False\n",
    "profiler_options.structured_options.text.kurtosis.is_enabled = False\n",
    "profiler_options.structured_options.text.histogram_and_quantiles.is_enabled = False\n",
    "profiler_options.structured_options.text.median_abs_deviation.is_enabled = False\n",
    "profiler_options.structured_options.text.bias_correction.is_enabled = False"
   ]
  },
  {
   "cell_type": "code",
   "execution_count": 4,
   "metadata": {},
   "outputs": [],
   "source": [
    "df_exc = pl.read_csv('./attribute_extraction/0_100_exceptions_old.csv')"
   ]
  },
  {
   "attachments": {},
   "cell_type": "markdown",
   "metadata": {},
   "source": [
    "### 1. Encoding error\n",
    "- Try 'utf-8', 'latin1', 'iso-8859-1', 'cp1252'\n",
    "- Otherwise, auto-detect encoding, try to use that.\n",
    "- Otherwise, fail.\n",
    "\n",
    "*Affected*: 0, 1, 2, 3, 4, 10, 13, 14, 17, 18, 62, 67\n"
   ]
  },
  {
   "cell_type": "code",
   "execution_count": 27,
   "metadata": {},
   "outputs": [
    {
     "name": "stdout",
     "output_type": "stream",
     "text": [
      "../datasets\\datasnaek_youtube-new\\JPvideos.csv\n",
      "Traceback (most recent call last):\n",
      "  File \"D:\\meng-code\\kaggle_data\\attribute_extraction\\attribute_extraction.py\", line 501, in extract_file_attributes_to_df\n",
      "    report, sample_size = create_profiler_report(data, profiler_options)\n",
      "  File \"D:\\meng-code\\kaggle_data\\attribute_extraction\\attribute_extraction.py\", line 321, in create_profiler_report\n",
      "    sample_size = min(len(data.data), 500000)\n",
      "  File \"C:\\Users\\radue\\AppData\\Roaming\\Python\\Python39\\site-packages\\dataprofiler\\data_readers\\base_data.py\", line 225, in __getattribute__\n",
      "    returned = object.__getattribute__(self, name)\n",
      "  File \"C:\\Users\\radue\\AppData\\Roaming\\Python\\Python39\\site-packages\\dataprofiler\\data_readers\\base_data.py\", line 70, in data\n",
      "    self._load_data()\n",
      "  File \"C:\\Users\\radue\\AppData\\Roaming\\Python\\Python39\\site-packages\\dataprofiler\\data_readers\\structured_mixins.py\", line 60, in _load_data\n",
      "    self._data = self._load_data_from_file(self.input_file_path)\n",
      "  File \"C:\\Users\\radue\\AppData\\Roaming\\Python\\Python39\\site-packages\\dataprofiler\\data_readers\\csv_data.py\", line 597, in _load_data_from_file\n",
      "    return data_utils.read_csv_df(\n",
      "  File \"C:\\Users\\radue\\AppData\\Roaming\\Python\\Python39\\site-packages\\dataprofiler\\data_readers\\data_utils.py\", line 324, in read_csv_df\n",
      "    data = fo.read()\n",
      "  File \"C:\\ProgramData\\Anaconda3\\lib\\site-packages\\pandas\\io\\parsers\\readers.py\", line 1778, in read\n",
      "    ) = self._engine.read(  # type: ignore[attr-defined]\n",
      "  File \"C:\\ProgramData\\Anaconda3\\lib\\site-packages\\pandas\\io\\parsers\\c_parser_wrapper.py\", line 230, in read\n",
      "    chunks = self._reader.read_low_memory(nrows)\n",
      "  File \"pandas\\_libs\\parsers.pyx\", line 808, in pandas._libs.parsers.TextReader.read_low_memory\n",
      "  File \"pandas\\_libs\\parsers.pyx\", line 890, in pandas._libs.parsers.TextReader._read_rows\n",
      "  File \"pandas\\_libs\\parsers.pyx\", line 1037, in pandas._libs.parsers.TextReader._convert_column_data\n",
      "  File \"pandas\\_libs\\parsers.pyx\", line 1068, in pandas._libs.parsers.TextReader._convert_tokens\n",
      "  File \"pandas\\_libs\\parsers.pyx\", line 1230, in pandas._libs.parsers.TextReader._convert_with_dtype\n",
      "  File \"pandas\\_libs\\parsers.pyx\", line 1246, in pandas._libs.parsers.TextReader._string_convert\n",
      "  File \"pandas\\_libs\\parsers.pyx\", line 1444, in pandas._libs.parsers._string_box_utf8\n",
      "UnicodeDecodeError: 'utf-8' codec can't decode bytes in position 253-254: unexpected end of data\n",
      "\n"
     ]
    }
   ],
   "source": [
    "i = 0\n",
    "print(df_exc['file_path'][i])\n",
    "print(df_exc['exception_str'][i])"
   ]
  },
  {
   "cell_type": "code",
   "execution_count": 13,
   "metadata": {},
   "outputs": [
    {
     "data": {
      "text/plain": [
       "'iso-8859-1'"
      ]
     },
     "execution_count": 13,
     "metadata": {},
     "output_type": "execute_result"
    }
   ],
   "source": [
    "data = dp.Data('./datasets/datasnaek_youtube-new/JPvideos.csv', options={\"encoding\": \"iso-8859-1\"})\n",
    "\n",
    "data.file_encoding"
   ]
  },
  {
   "cell_type": "code",
   "execution_count": 127,
   "metadata": {},
   "outputs": [
    {
     "name": "stdout",
     "output_type": "stream",
     "text": [
      "{'encoding': 'utf-8', 'confidence': 0.99, 'language': ''}\n"
     ]
    }
   ],
   "source": [
    "# TODO: try known encodings otherwise fallback to auto-detecting the encoding an dusing that. Otherwise, fail.\n",
    "import chardet\n",
    "with open('./datasets/datasnaek_youtube-new/JPvideos.csv', 'rb') as file:\n",
    "    print(chardet.detect(file.read(1000)))"
   ]
  },
  {
   "attachments": {},
   "cell_type": "markdown",
   "metadata": {},
   "source": [
    "### 2. Error tokenizing data\n",
    "- \"on_bad_lines\": \"skip\" (https://stackoverflow.com/questions/18039057/python-pandas-error-tokenizing-data)\n",
    "\n",
    "*Affected*: 4, 8"
   ]
  },
  {
   "cell_type": "code",
   "execution_count": 7,
   "metadata": {},
   "outputs": [
    {
     "name": "stdout",
     "output_type": "stream",
     "text": [
      "../datasets\\rashikrahmanpritom_heart-attack-analysis-prediction-dataset\\o2Saturation.csv\n",
      "Traceback (most recent call last):\n",
      "  File \"D:\\meng-code\\kaggle_data\\attribute_extraction\\attribute_extraction.py\", line 501, in extract_file_attributes_to_df\n",
      "    report, sample_size = create_profiler_report(data, profiler_options)\n",
      "  File \"D:\\meng-code\\kaggle_data\\attribute_extraction\\attribute_extraction.py\", line 321, in create_profiler_report\n",
      "    sample_size = min(len(data.data), 500000)\n",
      "  File \"C:\\Users\\radue\\AppData\\Roaming\\Python\\Python39\\site-packages\\dataprofiler\\data_readers\\base_data.py\", line 225, in __getattribute__\n",
      "    returned = object.__getattribute__(self, name)\n",
      "  File \"C:\\Users\\radue\\AppData\\Roaming\\Python\\Python39\\site-packages\\dataprofiler\\data_readers\\base_data.py\", line 70, in data\n",
      "    self._load_data()\n",
      "  File \"C:\\Users\\radue\\AppData\\Roaming\\Python\\Python39\\site-packages\\dataprofiler\\data_readers\\structured_mixins.py\", line 60, in _load_data\n",
      "    self._data = self._load_data_from_file(self.input_file_path)\n",
      "  File \"C:\\Users\\radue\\AppData\\Roaming\\Python\\Python39\\site-packages\\dataprofiler\\data_readers\\csv_data.py\", line 597, in _load_data_from_file\n",
      "    return data_utils.read_csv_df(\n",
      "  File \"C:\\Users\\radue\\AppData\\Roaming\\Python\\Python39\\site-packages\\dataprofiler\\data_readers\\data_utils.py\", line 324, in read_csv_df\n",
      "    data = fo.read()\n",
      "  File \"C:\\ProgramData\\Anaconda3\\lib\\site-packages\\pandas\\io\\parsers\\readers.py\", line 1778, in read\n",
      "    ) = self._engine.read(  # type: ignore[attr-defined]\n",
      "  File \"C:\\ProgramData\\Anaconda3\\lib\\site-packages\\pandas\\io\\parsers\\c_parser_wrapper.py\", line 230, in read\n",
      "    chunks = self._reader.read_low_memory(nrows)\n",
      "  File \"pandas\\_libs\\parsers.pyx\", line 808, in pandas._libs.parsers.TextReader.read_low_memory\n",
      "  File \"pandas\\_libs\\parsers.pyx\", line 866, in pandas._libs.parsers.TextReader._read_rows\n",
      "  File \"pandas\\_libs\\parsers.pyx\", line 852, in pandas._libs.parsers.TextReader._tokenize_rows\n",
      "  File \"pandas\\_libs\\parsers.pyx\", line 1973, in pandas._libs.parsers.raise_parser_error\n",
      "pandas.errors.ParserError: Error tokenizing data. C error: Expected 2 fields in line 1356, saw 3\n",
      "\n",
      "\n"
     ]
    }
   ],
   "source": [
    "i = 4\n",
    "print(df_exc['file_path'][i])\n",
    "print(df_exc['exception_str'][i])"
   ]
  },
  {
   "cell_type": "code",
   "execution_count": 10,
   "metadata": {},
   "outputs": [
    {
     "ename": "ParserError",
     "evalue": "Error tokenizing data. C error: Expected 2 fields in line 1356, saw 3\n",
     "output_type": "error",
     "traceback": [
      "\u001b[1;31m---------------------------------------------------------------------------\u001b[0m",
      "\u001b[1;31mAttributeError\u001b[0m                            Traceback (most recent call last)",
      "File \u001b[1;32m~\\AppData\\Roaming\\Python\\Python39\\site-packages\\dataprofiler\\data_readers\\base_data.py:225\u001b[0m, in \u001b[0;36mBaseData.__getattribute__\u001b[1;34m(self, name)\u001b[0m\n\u001b[0;32m    224\u001b[0m \u001b[39mtry\u001b[39;00m:\n\u001b[1;32m--> 225\u001b[0m     returned \u001b[39m=\u001b[39m \u001b[39mobject\u001b[39;49m\u001b[39m.\u001b[39;49m\u001b[39m__getattribute__\u001b[39;49m(\u001b[39mself\u001b[39;49m, name)\n\u001b[0;32m    226\u001b[0m \u001b[39mexcept\u001b[39;00m \u001b[39mAttributeError\u001b[39;00m \u001b[39mas\u001b[39;00m attr_error:\n",
      "\u001b[1;31mAttributeError\u001b[0m: 'CSVData' object has no attribute '__name__'",
      "\nDuring handling of the above exception, another exception occurred:\n",
      "\u001b[1;31mParserError\u001b[0m                               Traceback (most recent call last)",
      "Cell \u001b[1;32mIn[10], line 2\u001b[0m\n\u001b[0;32m      1\u001b[0m data \u001b[39m=\u001b[39m CSVData(\u001b[39m'\u001b[39m\u001b[39m./datasets/rashikrahmanpritom_heart-attack-analysis-prediction-dataset/o2Saturation.csv\u001b[39m\u001b[39m'\u001b[39m, options\u001b[39m=\u001b[39m{\u001b[39m'\u001b[39m\u001b[39mon_bad_lines\u001b[39m\u001b[39m'\u001b[39m: \u001b[39m'\u001b[39m\u001b[39mskip\u001b[39m\u001b[39m'\u001b[39m})\n\u001b[1;32m----> 2\u001b[0m help(data)\n",
      "File \u001b[1;32mc:\\ProgramData\\Anaconda3\\lib\\_sitebuiltins.py:103\u001b[0m, in \u001b[0;36m_Helper.__call__\u001b[1;34m(self, *args, **kwds)\u001b[0m\n\u001b[0;32m    101\u001b[0m \u001b[39mdef\u001b[39;00m \u001b[39m__call__\u001b[39m(\u001b[39mself\u001b[39m, \u001b[39m*\u001b[39margs, \u001b[39m*\u001b[39m\u001b[39m*\u001b[39mkwds):\n\u001b[0;32m    102\u001b[0m     \u001b[39mimport\u001b[39;00m \u001b[39mpydoc\u001b[39;00m\n\u001b[1;32m--> 103\u001b[0m     \u001b[39mreturn\u001b[39;00m pydoc\u001b[39m.\u001b[39mhelp(\u001b[39m*\u001b[39margs, \u001b[39m*\u001b[39m\u001b[39m*\u001b[39mkwds)\n",
      "File \u001b[1;32mc:\\ProgramData\\Anaconda3\\lib\\pydoc.py:2006\u001b[0m, in \u001b[0;36mHelper.__call__\u001b[1;34m(self, request)\u001b[0m\n\u001b[0;32m   2004\u001b[0m \u001b[39mdef\u001b[39;00m \u001b[39m__call__\u001b[39m(\u001b[39mself\u001b[39m, request\u001b[39m=\u001b[39m_GoInteractive):\n\u001b[0;32m   2005\u001b[0m     \u001b[39mif\u001b[39;00m request \u001b[39mis\u001b[39;00m \u001b[39mnot\u001b[39;00m \u001b[39mself\u001b[39m\u001b[39m.\u001b[39m_GoInteractive:\n\u001b[1;32m-> 2006\u001b[0m         \u001b[39mself\u001b[39;49m\u001b[39m.\u001b[39;49mhelp(request)\n\u001b[0;32m   2007\u001b[0m     \u001b[39melse\u001b[39;00m:\n\u001b[0;32m   2008\u001b[0m         \u001b[39mself\u001b[39m\u001b[39m.\u001b[39mintro()\n",
      "File \u001b[1;32mc:\\ProgramData\\Anaconda3\\lib\\pydoc.py:2065\u001b[0m, in \u001b[0;36mHelper.help\u001b[1;34m(self, request)\u001b[0m\n\u001b[0;32m   2063\u001b[0m     \u001b[39melse\u001b[39;00m: doc(\u001b[39mstr\u001b[39m, \u001b[39m'\u001b[39m\u001b[39mHelp on \u001b[39m\u001b[39m%s\u001b[39;00m\u001b[39m:\u001b[39m\u001b[39m'\u001b[39m, output\u001b[39m=\u001b[39m\u001b[39mself\u001b[39m\u001b[39m.\u001b[39m_output)\n\u001b[0;32m   2064\u001b[0m \u001b[39melif\u001b[39;00m \u001b[39misinstance\u001b[39m(request, Helper): \u001b[39mself\u001b[39m()\n\u001b[1;32m-> 2065\u001b[0m \u001b[39melse\u001b[39;00m: doc(request, \u001b[39m'\u001b[39;49m\u001b[39mHelp on \u001b[39;49m\u001b[39m%s\u001b[39;49;00m\u001b[39m:\u001b[39;49m\u001b[39m'\u001b[39;49m, output\u001b[39m=\u001b[39;49m\u001b[39mself\u001b[39;49m\u001b[39m.\u001b[39;49m_output)\n\u001b[0;32m   2066\u001b[0m \u001b[39mself\u001b[39m\u001b[39m.\u001b[39moutput\u001b[39m.\u001b[39mwrite(\u001b[39m'\u001b[39m\u001b[39m\\n\u001b[39;00m\u001b[39m'\u001b[39m)\n",
      "File \u001b[1;32mc:\\ProgramData\\Anaconda3\\lib\\pydoc.py:1784\u001b[0m, in \u001b[0;36mdoc\u001b[1;34m(thing, title, forceload, output)\u001b[0m\n\u001b[0;32m   1782\u001b[0m \u001b[39mtry\u001b[39;00m:\n\u001b[0;32m   1783\u001b[0m     \u001b[39mif\u001b[39;00m output \u001b[39mis\u001b[39;00m \u001b[39mNone\u001b[39;00m:\n\u001b[1;32m-> 1784\u001b[0m         pager(render_doc(thing, title, forceload))\n\u001b[0;32m   1785\u001b[0m     \u001b[39melse\u001b[39;00m:\n\u001b[0;32m   1786\u001b[0m         output\u001b[39m.\u001b[39mwrite(render_doc(thing, title, forceload, plaintext))\n",
      "File \u001b[1;32mc:\\ProgramData\\Anaconda3\\lib\\pydoc.py:1757\u001b[0m, in \u001b[0;36mrender_doc\u001b[1;34m(thing, title, forceload, renderer)\u001b[0m\n\u001b[0;32m   1755\u001b[0m \u001b[39mif\u001b[39;00m renderer \u001b[39mis\u001b[39;00m \u001b[39mNone\u001b[39;00m:\n\u001b[0;32m   1756\u001b[0m     renderer \u001b[39m=\u001b[39m text\n\u001b[1;32m-> 1757\u001b[0m \u001b[39mobject\u001b[39m, name \u001b[39m=\u001b[39m resolve(thing, forceload)\n\u001b[0;32m   1758\u001b[0m desc \u001b[39m=\u001b[39m describe(\u001b[39mobject\u001b[39m)\n\u001b[0;32m   1759\u001b[0m module \u001b[39m=\u001b[39m inspect\u001b[39m.\u001b[39mgetmodule(\u001b[39mobject\u001b[39m)\n",
      "File \u001b[1;32mc:\\ProgramData\\Anaconda3\\lib\\pydoc.py:1749\u001b[0m, in \u001b[0;36mresolve\u001b[1;34m(thing, forceload)\u001b[0m\n\u001b[0;32m   1747\u001b[0m     \u001b[39mreturn\u001b[39;00m \u001b[39mobject\u001b[39m, thing\n\u001b[0;32m   1748\u001b[0m \u001b[39melse\u001b[39;00m:\n\u001b[1;32m-> 1749\u001b[0m     name \u001b[39m=\u001b[39m \u001b[39mgetattr\u001b[39;49m(thing, \u001b[39m'\u001b[39;49m\u001b[39m__name__\u001b[39;49m\u001b[39m'\u001b[39;49m, \u001b[39mNone\u001b[39;49;00m)\n\u001b[0;32m   1750\u001b[0m     \u001b[39mreturn\u001b[39;00m thing, name \u001b[39mif\u001b[39;00m \u001b[39misinstance\u001b[39m(name, \u001b[39mstr\u001b[39m) \u001b[39melse\u001b[39;00m \u001b[39mNone\u001b[39;00m\n",
      "File \u001b[1;32m~\\AppData\\Roaming\\Python\\Python39\\site-packages\\dataprofiler\\data_readers\\base_data.py:228\u001b[0m, in \u001b[0;36mBaseData.__getattribute__\u001b[1;34m(self, name)\u001b[0m\n\u001b[0;32m    226\u001b[0m \u001b[39mexcept\u001b[39;00m \u001b[39mAttributeError\u001b[39;00m \u001b[39mas\u001b[39;00m attr_error:\n\u001b[0;32m    227\u001b[0m     class_name \u001b[39m=\u001b[39m \u001b[39mself\u001b[39m\u001b[39m.\u001b[39m\u001b[39m__class__\u001b[39m\u001b[39m.\u001b[39m\u001b[39m__name__\u001b[39m\n\u001b[1;32m--> 228\u001b[0m     data_class_name \u001b[39m=\u001b[39m \u001b[39mself\u001b[39;49m\u001b[39m.\u001b[39;49mdata\u001b[39m.\u001b[39m\u001b[39m__class__\u001b[39m\u001b[39m.\u001b[39m\u001b[39m__name__\u001b[39m\n\u001b[0;32m    229\u001b[0m     \u001b[39mif\u001b[39;00m \u001b[39mnot\u001b[39;00m \u001b[39mf\u001b[39m\u001b[39m\"\u001b[39m\u001b[39m'\u001b[39m\u001b[39m{\u001b[39;00mclass_name\u001b[39m}\u001b[39;00m\u001b[39m'\u001b[39m\u001b[39m object has no attribute \u001b[39m\u001b[39m'\u001b[39m\u001b[39m{\u001b[39;00mname\u001b[39m}\u001b[39;00m\u001b[39m'\u001b[39m\u001b[39m\"\u001b[39m \u001b[39m==\u001b[39m \u001b[39mstr\u001b[39m(\n\u001b[0;32m    230\u001b[0m         attr_error\n\u001b[0;32m    231\u001b[0m     ):\n\u001b[0;32m    232\u001b[0m         \u001b[39mraise\u001b[39;00m\n",
      "File \u001b[1;32m~\\AppData\\Roaming\\Python\\Python39\\site-packages\\dataprofiler\\data_readers\\base_data.py:225\u001b[0m, in \u001b[0;36mBaseData.__getattribute__\u001b[1;34m(self, name)\u001b[0m\n\u001b[0;32m    213\u001b[0m \u001b[39m\"\"\"\u001b[39;00m\n\u001b[0;32m    214\u001b[0m \u001b[39mOverride getattr for the class.\u001b[39;00m\n\u001b[0;32m    215\u001b[0m \n\u001b[1;32m   (...)\u001b[0m\n\u001b[0;32m    222\u001b[0m \u001b[39m```\u001b[39;00m\n\u001b[0;32m    223\u001b[0m \u001b[39m\"\"\"\u001b[39;00m\n\u001b[0;32m    224\u001b[0m \u001b[39mtry\u001b[39;00m:\n\u001b[1;32m--> 225\u001b[0m     returned \u001b[39m=\u001b[39m \u001b[39mobject\u001b[39;49m\u001b[39m.\u001b[39;49m\u001b[39m__getattribute__\u001b[39;49m(\u001b[39mself\u001b[39;49m, name)\n\u001b[0;32m    226\u001b[0m \u001b[39mexcept\u001b[39;00m \u001b[39mAttributeError\u001b[39;00m \u001b[39mas\u001b[39;00m attr_error:\n\u001b[0;32m    227\u001b[0m     class_name \u001b[39m=\u001b[39m \u001b[39mself\u001b[39m\u001b[39m.\u001b[39m\u001b[39m__class__\u001b[39m\u001b[39m.\u001b[39m\u001b[39m__name__\u001b[39m\n",
      "File \u001b[1;32m~\\AppData\\Roaming\\Python\\Python39\\site-packages\\dataprofiler\\data_readers\\base_data.py:70\u001b[0m, in \u001b[0;36mBaseData.data\u001b[1;34m(self)\u001b[0m\n\u001b[0;32m     68\u001b[0m \u001b[39m\"\"\"Return data.\"\"\"\u001b[39;00m\n\u001b[0;32m     69\u001b[0m \u001b[39mif\u001b[39;00m \u001b[39mself\u001b[39m\u001b[39m.\u001b[39m_data \u001b[39mis\u001b[39;00m \u001b[39mNone\u001b[39;00m:\n\u001b[1;32m---> 70\u001b[0m     \u001b[39mself\u001b[39;49m\u001b[39m.\u001b[39;49m_load_data()\n\u001b[0;32m     72\u001b[0m allowed_data_formats \u001b[39m=\u001b[39m \u001b[39mlist\u001b[39m(\u001b[39mself\u001b[39m\u001b[39m.\u001b[39m_data_formats\u001b[39m.\u001b[39mkeys())\n\u001b[0;32m     73\u001b[0m \u001b[39mif\u001b[39;00m \u001b[39mnot\u001b[39;00m \u001b[39mself\u001b[39m\u001b[39m.\u001b[39m_selected_data_format:\n",
      "File \u001b[1;32m~\\AppData\\Roaming\\Python\\Python39\\site-packages\\dataprofiler\\data_readers\\structured_mixins.py:60\u001b[0m, in \u001b[0;36mSpreadSheetDataMixin._load_data\u001b[1;34m(self, data)\u001b[0m\n\u001b[0;32m     58\u001b[0m         \u001b[39mraise\u001b[39;00m \u001b[39mValueError\u001b[39;00m(\u001b[39m\"\u001b[39m\u001b[39mInput data type is not string or pandas.DataFrame\u001b[39m\u001b[39m\"\u001b[39m)\n\u001b[0;32m     59\u001b[0m \u001b[39melif\u001b[39;00m \u001b[39mself\u001b[39m\u001b[39m.\u001b[39minput_file_path:\n\u001b[1;32m---> 60\u001b[0m     \u001b[39mself\u001b[39m\u001b[39m.\u001b[39m_data \u001b[39m=\u001b[39m \u001b[39mself\u001b[39;49m\u001b[39m.\u001b[39;49m_load_data_from_file(\u001b[39mself\u001b[39;49m\u001b[39m.\u001b[39;49minput_file_path)\n\u001b[0;32m     61\u001b[0m \u001b[39melse\u001b[39;00m:\n\u001b[0;32m     62\u001b[0m     \u001b[39mraise\u001b[39;00m \u001b[39mValueError\u001b[39;00m(\u001b[39m\"\u001b[39m\u001b[39mNo data to load.\u001b[39m\u001b[39m\"\u001b[39m)\n",
      "File \u001b[1;32m~\\AppData\\Roaming\\Python\\Python39\\site-packages\\dataprofiler\\data_readers\\csv_data.py:597\u001b[0m, in \u001b[0;36mCSVData._load_data_from_file\u001b[1;34m(self, input_file_path)\u001b[0m\n\u001b[0;32m    594\u001b[0m         \u001b[39mif\u001b[39;00m count_delimiter_last \u001b[39m==\u001b[39m num_lines_read:\n\u001b[0;32m    595\u001b[0m             \u001b[39mself\u001b[39m\u001b[39m.\u001b[39m_delimiter \u001b[39m=\u001b[39m \u001b[39mNone\u001b[39;00m\n\u001b[1;32m--> 597\u001b[0m \u001b[39mreturn\u001b[39;00m data_utils\u001b[39m.\u001b[39;49mread_csv_df(\n\u001b[0;32m    598\u001b[0m     input_file_path,\n\u001b[0;32m    599\u001b[0m     \u001b[39mself\u001b[39;49m\u001b[39m.\u001b[39;49mdelimiter,\n\u001b[0;32m    600\u001b[0m     cast(Optional[\u001b[39mint\u001b[39;49m], \u001b[39mself\u001b[39;49m\u001b[39m.\u001b[39;49mheader),\n\u001b[0;32m    601\u001b[0m     \u001b[39mself\u001b[39;49m\u001b[39m.\u001b[39;49mselected_columns,\n\u001b[0;32m    602\u001b[0m     read_in_string\u001b[39m=\u001b[39;49m\u001b[39mTrue\u001b[39;49;00m,\n\u001b[0;32m    603\u001b[0m     encoding\u001b[39m=\u001b[39;49mcast(\u001b[39mstr\u001b[39;49m, \u001b[39mself\u001b[39;49m\u001b[39m.\u001b[39;49mfile_encoding),\n\u001b[0;32m    604\u001b[0m )\n",
      "File \u001b[1;32m~\\AppData\\Roaming\\Python\\Python39\\site-packages\\dataprofiler\\data_readers\\data_utils.py:324\u001b[0m, in \u001b[0;36mread_csv_df\u001b[1;34m(file_path, delimiter, header, selected_columns, read_in_string, encoding)\u001b[0m\n\u001b[0;32m    321\u001b[0m     is_buf_wrapped \u001b[39m=\u001b[39m \u001b[39mTrue\u001b[39;00m\n\u001b[0;32m    323\u001b[0m fo \u001b[39m=\u001b[39m pd\u001b[39m.\u001b[39mread_csv(file_path, \u001b[39m*\u001b[39m\u001b[39m*\u001b[39margs)\n\u001b[1;32m--> 324\u001b[0m data \u001b[39m=\u001b[39m fo\u001b[39m.\u001b[39;49mread()\n\u001b[0;32m    326\u001b[0m \u001b[39m# if the buffer was wrapped, detach it before returning\u001b[39;00m\n\u001b[0;32m    327\u001b[0m \u001b[39mif\u001b[39;00m is_buf_wrapped:\n",
      "File \u001b[1;32mc:\\ProgramData\\Anaconda3\\lib\\site-packages\\pandas\\io\\parsers\\readers.py:1778\u001b[0m, in \u001b[0;36mTextFileReader.read\u001b[1;34m(self, nrows)\u001b[0m\n\u001b[0;32m   1771\u001b[0m nrows \u001b[39m=\u001b[39m validate_integer(\u001b[39m\"\u001b[39m\u001b[39mnrows\u001b[39m\u001b[39m\"\u001b[39m, nrows)\n\u001b[0;32m   1772\u001b[0m \u001b[39mtry\u001b[39;00m:\n\u001b[0;32m   1773\u001b[0m     \u001b[39m# error: \"ParserBase\" has no attribute \"read\"\u001b[39;00m\n\u001b[0;32m   1774\u001b[0m     (\n\u001b[0;32m   1775\u001b[0m         index,\n\u001b[0;32m   1776\u001b[0m         columns,\n\u001b[0;32m   1777\u001b[0m         col_dict,\n\u001b[1;32m-> 1778\u001b[0m     ) \u001b[39m=\u001b[39m \u001b[39mself\u001b[39;49m\u001b[39m.\u001b[39;49m_engine\u001b[39m.\u001b[39;49mread(  \u001b[39m# type: ignore[attr-defined]\u001b[39;49;00m\n\u001b[0;32m   1779\u001b[0m         nrows\n\u001b[0;32m   1780\u001b[0m     )\n\u001b[0;32m   1781\u001b[0m \u001b[39mexcept\u001b[39;00m \u001b[39mException\u001b[39;00m:\n\u001b[0;32m   1782\u001b[0m     \u001b[39mself\u001b[39m\u001b[39m.\u001b[39mclose()\n",
      "File \u001b[1;32mc:\\ProgramData\\Anaconda3\\lib\\site-packages\\pandas\\io\\parsers\\c_parser_wrapper.py:230\u001b[0m, in \u001b[0;36mCParserWrapper.read\u001b[1;34m(self, nrows)\u001b[0m\n\u001b[0;32m    228\u001b[0m \u001b[39mtry\u001b[39;00m:\n\u001b[0;32m    229\u001b[0m     \u001b[39mif\u001b[39;00m \u001b[39mself\u001b[39m\u001b[39m.\u001b[39mlow_memory:\n\u001b[1;32m--> 230\u001b[0m         chunks \u001b[39m=\u001b[39m \u001b[39mself\u001b[39;49m\u001b[39m.\u001b[39;49m_reader\u001b[39m.\u001b[39;49mread_low_memory(nrows)\n\u001b[0;32m    231\u001b[0m         \u001b[39m# destructive to chunks\u001b[39;00m\n\u001b[0;32m    232\u001b[0m         data \u001b[39m=\u001b[39m _concatenate_chunks(chunks)\n",
      "File \u001b[1;32mc:\\ProgramData\\Anaconda3\\lib\\site-packages\\pandas\\_libs\\parsers.pyx:808\u001b[0m, in \u001b[0;36mpandas._libs.parsers.TextReader.read_low_memory\u001b[1;34m()\u001b[0m\n",
      "File \u001b[1;32mc:\\ProgramData\\Anaconda3\\lib\\site-packages\\pandas\\_libs\\parsers.pyx:866\u001b[0m, in \u001b[0;36mpandas._libs.parsers.TextReader._read_rows\u001b[1;34m()\u001b[0m\n",
      "File \u001b[1;32mc:\\ProgramData\\Anaconda3\\lib\\site-packages\\pandas\\_libs\\parsers.pyx:852\u001b[0m, in \u001b[0;36mpandas._libs.parsers.TextReader._tokenize_rows\u001b[1;34m()\u001b[0m\n",
      "File \u001b[1;32mc:\\ProgramData\\Anaconda3\\lib\\site-packages\\pandas\\_libs\\parsers.pyx:1973\u001b[0m, in \u001b[0;36mpandas._libs.parsers.raise_parser_error\u001b[1;34m()\u001b[0m\n",
      "\u001b[1;31mParserError\u001b[0m: Error tokenizing data. C error: Expected 2 fields in line 1356, saw 3\n"
     ]
    }
   ],
   "source": [
    "data = CSVData('./datasets/rashikrahmanpritom_heart-attack-analysis-prediction-dataset/o2Saturation.csv', options={'on_bad_lines': 'skip'})\n",
    "\n",
    "# profile = dp.Profiler(data, samples_per_update=1000, options=profiler_options) \n",
    "\n",
    "# report = profile.report(report_options={\"output_format\":\"serializable\"})"
   ]
  },
  {
   "cell_type": "code",
   "execution_count": 12,
   "metadata": {},
   "outputs": [
    {
     "data": {
      "text/plain": [
       "'UTF-8'"
      ]
     },
     "execution_count": 12,
     "metadata": {},
     "output_type": "execute_result"
    }
   ],
   "source": [
    "df = pd.read_csv('./datasets/rashikrahmanpritom_heart-attack-analysis-prediction-dataset/o2Saturation.csv', on_bad_lines='skip')\n",
    "data = dp.Data(data=df, data_type='csv', options={'on_bad_lines': 'skip'})\n",
    "\n",
    "# profile = dp.Profiler(data, samples_per_update=1000, options=profiler_options) \n",
    "\n",
    "# report = profile.report(report_options={\"output_format\":\"serializable\"})\n",
    "# report\n",
    "data.file_encoding"
   ]
  },
  {
   "cell_type": "code",
   "execution_count": null,
   "metadata": {},
   "outputs": [],
   "source": [
    "sniffer = csv.Sniffer()\n",
    "data = open('./datasets/rashikrahmanpritom_heart-attack-analysis-prediction-dataset/o2Saturation.csv', \"r\").read(4096)\n",
    "obj = sniffer.sniff(data)\n",
    "obj.delimiter"
   ]
  },
  {
   "cell_type": "code",
   "execution_count": 11,
   "metadata": {},
   "outputs": [
    {
     "name": "stdout",
     "output_type": "stream",
     "text": [
      "../datasets\\rounakbanik_the-movies-dataset\\credits.csv\n",
      "Traceback (most recent call last):\n",
      "  File \"D:\\meng-code\\kaggle_data\\attribute_extraction\\attribute_extraction.py\", line 504, in extract_file_attributes_to_df\n",
      "    attribute_dict = create_attributes_from_file_report(data, report)\n",
      "  File \"D:\\meng-code\\kaggle_data\\attribute_extraction\\attribute_extraction.py\", line 339, in create_attributes_from_file_report\n",
      "    add_consistency_attributes(attributes_dict, feature_stats, global_stats)\n",
      "  File \"D:\\meng-code\\kaggle_data\\attribute_extraction\\attribute_extraction.py\", line 171, in add_consistency_attributes\n",
      "    if feature_stats['data_type'] == 'integer':\n",
      "TypeError: string indices must be integers\n",
      "\n"
     ]
    }
   ],
   "source": [
    "i = 6\n",
    "print(df_exc['file_path'][i])\n",
    "print(df_exc['exception_str'][i])"
   ]
  },
  {
   "cell_type": "code",
   "execution_count": null,
   "metadata": {},
   "outputs": [],
   "source": [
    "data = dp.Data('./datasets/rounakbanik_the-movies-dataset/credits.csv')\n",
    "\n",
    "profile = dp.Profiler(data, samples_per_update=100, profiler_options=profiler_options) \n",
    "\n",
    "report = profile.report(report_options={\"output_format\":\"serializable\"})"
   ]
  },
  {
   "attachments": {},
   "cell_type": "markdown",
   "metadata": {},
   "source": [
    "### 3. String Indices Must Be Integers\n",
    "*Affected*: 6, 7, 9, 15, 16, 36, 66, 68\n",
    "\n",
    "**Problem**: csv files got read as TextData which generated an Unstructured report (unstructured reports do not have 'data_type' field). Reason why they got read as TextData? Not sure, but profiler uses chardet and some proprietary methods for detecting encoding, delimiters and using those it decides whether file is indeed structured/csv. In this case, it decided it is not csv.\n",
    "\n",
    "**Solution**: Read using CSVData object directly."
   ]
  },
  {
   "cell_type": "code",
   "execution_count": 104,
   "metadata": {},
   "outputs": [
    {
     "name": "stdout",
     "output_type": "stream",
     "text": [
      "../datasets\\gpreda_reddit-vaccine-myths\\reddit_vm.csv\n",
      "Traceback (most recent call last):\n",
      "  File \"D:\\meng-code\\kaggle_data\\attribute_extraction\\attribute_extraction.py\", line 504, in extract_file_attributes_to_df\n",
      "    attribute_dict = create_attributes_from_file_report(data, report)\n",
      "  File \"D:\\meng-code\\kaggle_data\\attribute_extraction\\attribute_extraction.py\", line 339, in create_attributes_from_file_report\n",
      "    add_consistency_attributes(attributes_dict, feature_stats, global_stats)\n",
      "  File \"D:\\meng-code\\kaggle_data\\attribute_extraction\\attribute_extraction.py\", line 171, in add_consistency_attributes\n",
      "    if feature_stats['data_type'] == 'integer':\n",
      "TypeError: string indices must be integers\n",
      "\n"
     ]
    }
   ],
   "source": [
    "i = 9\n",
    "print(df_exc['file_path'][i])\n",
    "print(df_exc['exception_str'][i])"
   ]
  },
  {
   "cell_type": "code",
   "execution_count": 128,
   "metadata": {},
   "outputs": [
    {
     "ename": "ValueError",
     "evalue": "No data class types matched the input.",
     "output_type": "error",
     "traceback": [
      "\u001b[1;31m---------------------------------------------------------------------------\u001b[0m",
      "\u001b[1;31mValueError\u001b[0m                                Traceback (most recent call last)",
      "Cell \u001b[1;32mIn[128], line 1\u001b[0m\n\u001b[1;32m----> 1\u001b[0m data \u001b[39m=\u001b[39m dp\u001b[39m.\u001b[39;49mData(\u001b[39m'\u001b[39;49m\u001b[39m./datasets/gpreda_reddit-vaccine-myths/reddit_vm.csv\u001b[39;49m\u001b[39m'\u001b[39;49m, data_type\u001b[39m=\u001b[39;49m\u001b[39m'\u001b[39;49m\u001b[39mcsv\u001b[39;49m\u001b[39m'\u001b[39;49m)\n\u001b[0;32m      3\u001b[0m profile \u001b[39m=\u001b[39m dp\u001b[39m.\u001b[39mProfiler(data, options\u001b[39m=\u001b[39mprofiler_options)\n\u001b[0;32m      5\u001b[0m report \u001b[39m=\u001b[39m profile\u001b[39m.\u001b[39mreport(report_options\u001b[39m=\u001b[39m{\u001b[39m\"\u001b[39m\u001b[39moutput_format\u001b[39m\u001b[39m\"\u001b[39m:\u001b[39m\"\u001b[39m\u001b[39mserializable\u001b[39m\u001b[39m\"\u001b[39m})\n",
      "File \u001b[1;32m~\\AppData\\Roaming\\Python\\Python39\\site-packages\\dataprofiler\\data_readers\\data.py:80\u001b[0m, in \u001b[0;36mData.__new__\u001b[1;34m(cls, input_file_path, data, data_type, options)\u001b[0m\n\u001b[0;32m     75\u001b[0m     \u001b[39mif\u001b[39;00m (\u001b[39mnot\u001b[39;00m data_type \u001b[39mor\u001b[39;00m data_type \u001b[39m==\u001b[39m data_class\u001b[39m.\u001b[39mdata_type) \u001b[39mand\u001b[39;00m (\n\u001b[0;32m     76\u001b[0m         data \u001b[39mis\u001b[39;00m \u001b[39mnot\u001b[39;00m \u001b[39mNone\u001b[39;00m \u001b[39mor\u001b[39;00m data_class\u001b[39m.\u001b[39mis_match(input_file_path, options_copy)\n\u001b[0;32m     77\u001b[0m     ):\n\u001b[0;32m     78\u001b[0m         \u001b[39mreturn\u001b[39;00m data_class(input_file_path, data, options_copy)\n\u001b[1;32m---> 80\u001b[0m \u001b[39mraise\u001b[39;00m \u001b[39mValueError\u001b[39;00m(\u001b[39m\"\u001b[39m\u001b[39mNo data class types matched the input.\u001b[39m\u001b[39m\"\u001b[39m)\n",
      "\u001b[1;31mValueError\u001b[0m: No data class types matched the input."
     ]
    }
   ],
   "source": [
    "data = dp.Data('./datasets/gpreda_reddit-vaccine-myths/reddit_vm.csv', data_type='csv')\n",
    "\n",
    "profile = dp.Profiler(data, options=profiler_options)\n",
    "\n",
    "report = profile.report(report_options={\"output_format\":\"serializable\"})"
   ]
  },
  {
   "cell_type": "code",
   "execution_count": 131,
   "metadata": {},
   "outputs": [
    {
     "name": "stderr",
     "output_type": "stream",
     "text": [
      "C:\\Users\\radue\\AppData\\Roaming\\Python\\Python39\\site-packages\\dataprofiler\\profilers\\profiler_options.py:529: UserWarning: StructuredOptions.text.numeric_stats: The numeric stats are completely disabled.\n",
      "  warnings.warn(\n"
     ]
    },
    {
     "name": "stdout",
     "output_type": "stream",
     "text": [
      "INFO:DataProfiler.profilers.profile_builder: Finding the Null values in the columns... \n"
     ]
    },
    {
     "name": "stderr",
     "output_type": "stream",
     "text": [
      "100%|██████████| 8/8 [00:00<00:00, 39.11it/s]"
     ]
    },
    {
     "name": "stdout",
     "output_type": "stream",
     "text": [
      "INFO:DataProfiler.profilers.profile_builder: Calculating the statistics... \n"
     ]
    },
    {
     "name": "stderr",
     "output_type": "stream",
     "text": [
      "\n",
      " 25%|██▌       | 2/8 [00:01<00:04,  1.29it/s]"
     ]
    },
    {
     "name": "stdout",
     "output_type": "stream",
     "text": [
      "WARNING:tensorflow:5 out of the last 9 calls to <function TensorFlowOpLayer._defun_call at 0x000001D445236280> triggered tf.function retracing. Tracing is expensive and the excessive number of tracings could be due to (1) creating @tf.function repeatedly in a loop, (2) passing tensors with different shapes, (3) passing Python objects instead of tensors. For (1), please define your @tf.function outside of the loop. For (2), @tf.function has reduce_retracing=True option that can avoid unnecessary retracing. For (3), please refer to https://www.tensorflow.org/guide/function#controlling_retracing and https://www.tensorflow.org/api_docs/python/tf/function for  more details.\n"
     ]
    },
    {
     "name": "stderr",
     "output_type": "stream",
     "text": [
      " 38%|███▊      | 3/8 [00:02<00:03,  1.43it/s]"
     ]
    },
    {
     "name": "stdout",
     "output_type": "stream",
     "text": [
      "WARNING:tensorflow:6 out of the last 10 calls to <function TensorFlowOpLayer._defun_call at 0x000001D445236280> triggered tf.function retracing. Tracing is expensive and the excessive number of tracings could be due to (1) creating @tf.function repeatedly in a loop, (2) passing tensors with different shapes, (3) passing Python objects instead of tensors. For (1), please define your @tf.function outside of the loop. For (2), @tf.function has reduce_retracing=True option that can avoid unnecessary retracing. For (3), please refer to https://www.tensorflow.org/guide/function#controlling_retracing and https://www.tensorflow.org/api_docs/python/tf/function for  more details.\n"
     ]
    },
    {
     "name": "stderr",
     "output_type": "stream",
     "text": [
      "100%|██████████| 8/8 [00:10<00:00,  1.28s/it]\n"
     ]
    }
   ],
   "source": [
    "from dataprofiler.data_readers.csv_data import CSVData\n",
    "\n",
    "data = CSVData('./datasets/gpreda_reddit-vaccine-myths/reddit_vm.csv')\n",
    "\n",
    "profile = dp.Profiler(data, options=profiler_options)\n",
    "\n",
    "report = profile.report(report_options={\"output_format\":\"serializable\"})"
   ]
  },
  {
   "cell_type": "code",
   "execution_count": 112,
   "metadata": {},
   "outputs": [
    {
     "ename": "TypeError",
     "evalue": "string indices must be integers",
     "output_type": "error",
     "traceback": [
      "\u001b[1;31m---------------------------------------------------------------------------\u001b[0m",
      "\u001b[1;31mTypeError\u001b[0m                                 Traceback (most recent call last)",
      "Cell \u001b[1;32mIn[112], line 2\u001b[0m\n\u001b[0;32m      1\u001b[0m \u001b[39mfor\u001b[39;00m feature_stats \u001b[39min\u001b[39;00m report[\u001b[39m'\u001b[39m\u001b[39mdata_stats\u001b[39m\u001b[39m'\u001b[39m]:\n\u001b[1;32m----> 2\u001b[0m     \u001b[39mif\u001b[39;00m feature_stats[\u001b[39m'\u001b[39;49m\u001b[39mdata_type\u001b[39;49m\u001b[39m'\u001b[39;49m] \u001b[39m==\u001b[39m \u001b[39m'\u001b[39m\u001b[39minteger\u001b[39m\u001b[39m'\u001b[39m:\n\u001b[0;32m      3\u001b[0m         \u001b[39mprint\u001b[39m(\u001b[39m1\u001b[39m)\n",
      "\u001b[1;31mTypeError\u001b[0m: string indices must be integers"
     ]
    }
   ],
   "source": [
    "for feature_stats in report['data_stats']:\n",
    "    if feature_stats['data_type'] == 'integer':\n",
    "        print(1)"
   ]
  },
  {
   "cell_type": "code",
   "execution_count": 134,
   "metadata": {},
   "outputs": [
    {
     "name": "stderr",
     "output_type": "stream",
     "text": [
      "C:\\Users\\radue\\AppData\\Roaming\\Python\\Python39\\site-packages\\dataprofiler\\profilers\\profiler_options.py:529: UserWarning: StructuredOptions.text.numeric_stats: The numeric stats are completely disabled.\n",
      "  warnings.warn(\n"
     ]
    },
    {
     "ename": "ParserError",
     "evalue": "Error tokenizing data. C error: Expected 2 fields in line 4, saw 3\n",
     "output_type": "error",
     "traceback": [
      "\u001b[1;31m---------------------------------------------------------------------------\u001b[0m",
      "\u001b[1;31mParserError\u001b[0m                               Traceback (most recent call last)",
      "Cell \u001b[1;32mIn[134], line 3\u001b[0m\n\u001b[0;32m      1\u001b[0m data \u001b[39m=\u001b[39m CSVData(\u001b[39m'\u001b[39m\u001b[39m./text.xlsx\u001b[39m\u001b[39m'\u001b[39m, options\u001b[39m=\u001b[39m{\u001b[39m'\u001b[39m\u001b[39mencoding\u001b[39m\u001b[39m'\u001b[39m: \u001b[39m'\u001b[39m\u001b[39mlatin1\u001b[39m\u001b[39m'\u001b[39m})\n\u001b[1;32m----> 3\u001b[0m profile \u001b[39m=\u001b[39m dp\u001b[39m.\u001b[39;49mProfiler(data, options\u001b[39m=\u001b[39;49mprofiler_options)\n\u001b[0;32m      5\u001b[0m report \u001b[39m=\u001b[39m profile\u001b[39m.\u001b[39mreport(report_options\u001b[39m=\u001b[39m{\u001b[39m\"\u001b[39m\u001b[39moutput_format\u001b[39m\u001b[39m\"\u001b[39m:\u001b[39m\"\u001b[39m\u001b[39mserializable\u001b[39m\u001b[39m\"\u001b[39m})\n",
      "File \u001b[1;32m~\\AppData\\Roaming\\Python\\Python39\\site-packages\\dataprofiler\\profilers\\profile_builder.py:2800\u001b[0m, in \u001b[0;36mProfiler.__new__\u001b[1;34m(cls, data, samples_per_update, min_true_samples, options, profiler_type)\u001b[0m\n\u001b[0;32m   2798\u001b[0m     \u001b[39mreturn\u001b[39;00m profile\n\u001b[0;32m   2799\u001b[0m \u001b[39melif\u001b[39;00m profiler_type \u001b[39m==\u001b[39m \u001b[39m\"\u001b[39m\u001b[39mstructured\u001b[39m\u001b[39m\"\u001b[39m:\n\u001b[1;32m-> 2800\u001b[0m     \u001b[39mreturn\u001b[39;00m StructuredProfiler(\n\u001b[0;32m   2801\u001b[0m         data, samples_per_update, min_true_samples, options\n\u001b[0;32m   2802\u001b[0m     )\n\u001b[0;32m   2803\u001b[0m \u001b[39melif\u001b[39;00m profiler_type \u001b[39m==\u001b[39m \u001b[39m\"\u001b[39m\u001b[39munstructured\u001b[39m\u001b[39m\"\u001b[39m:\n\u001b[0;32m   2804\u001b[0m     \u001b[39mreturn\u001b[39;00m UnstructuredProfiler(\n\u001b[0;32m   2805\u001b[0m         data, samples_per_update, min_true_samples, options\n\u001b[0;32m   2806\u001b[0m     )\n",
      "File \u001b[1;32m~\\AppData\\Roaming\\Python\\Python39\\site-packages\\dataprofiler\\profilers\\profile_builder.py:1532\u001b[0m, in \u001b[0;36mStructuredProfiler.__init__\u001b[1;34m(self, data, samples_per_update, min_true_samples, options)\u001b[0m\n\u001b[0;32m   1529\u001b[0m \u001b[39mself\u001b[39m\u001b[39m.\u001b[39m_null_replication_metrics: \u001b[39mdict\u001b[39m \u001b[39m=\u001b[39m \u001b[39mNone\u001b[39;00m  \u001b[39m# type: ignore[assignment]\u001b[39;00m\n\u001b[0;32m   1531\u001b[0m \u001b[39mif\u001b[39;00m data \u001b[39mis\u001b[39;00m \u001b[39mnot\u001b[39;00m \u001b[39mNone\u001b[39;00m:\n\u001b[1;32m-> 1532\u001b[0m     \u001b[39mself\u001b[39;49m\u001b[39m.\u001b[39;49mupdate_profile(data)\n",
      "File \u001b[1;32m~\\AppData\\Roaming\\Python\\Python39\\site-packages\\dataprofiler\\profilers\\profile_builder.py:887\u001b[0m, in \u001b[0;36mBaseProfiler.update_profile\u001b[1;34m(self, data, sample_size, min_true_samples)\u001b[0m\n\u001b[0;32m    885\u001b[0m     encoding \u001b[39m=\u001b[39m data\u001b[39m.\u001b[39mfile_encoding\n\u001b[0;32m    886\u001b[0m     file_type \u001b[39m=\u001b[39m data\u001b[39m.\u001b[39mdata_type\n\u001b[1;32m--> 887\u001b[0m     data \u001b[39m=\u001b[39m data\u001b[39m.\u001b[39;49mdata\n\u001b[0;32m    888\u001b[0m \u001b[39melif\u001b[39;00m \u001b[39misinstance\u001b[39m(data, \u001b[39mself\u001b[39m\u001b[39m.\u001b[39m_allowed_external_data_types):\n\u001b[0;32m    889\u001b[0m     file_type \u001b[39m=\u001b[39m \u001b[39mstr\u001b[39m(data\u001b[39m.\u001b[39m\u001b[39m__class__\u001b[39m)\n",
      "File \u001b[1;32m~\\AppData\\Roaming\\Python\\Python39\\site-packages\\dataprofiler\\data_readers\\base_data.py:225\u001b[0m, in \u001b[0;36mBaseData.__getattribute__\u001b[1;34m(self, name)\u001b[0m\n\u001b[0;32m    213\u001b[0m \u001b[39m\"\"\"\u001b[39;00m\n\u001b[0;32m    214\u001b[0m \u001b[39mOverride getattr for the class.\u001b[39;00m\n\u001b[0;32m    215\u001b[0m \n\u001b[1;32m   (...)\u001b[0m\n\u001b[0;32m    222\u001b[0m \u001b[39m```\u001b[39;00m\n\u001b[0;32m    223\u001b[0m \u001b[39m\"\"\"\u001b[39;00m\n\u001b[0;32m    224\u001b[0m \u001b[39mtry\u001b[39;00m:\n\u001b[1;32m--> 225\u001b[0m     returned \u001b[39m=\u001b[39m \u001b[39mobject\u001b[39;49m\u001b[39m.\u001b[39;49m\u001b[39m__getattribute__\u001b[39;49m(\u001b[39mself\u001b[39;49m, name)\n\u001b[0;32m    226\u001b[0m \u001b[39mexcept\u001b[39;00m \u001b[39mAttributeError\u001b[39;00m \u001b[39mas\u001b[39;00m attr_error:\n\u001b[0;32m    227\u001b[0m     class_name \u001b[39m=\u001b[39m \u001b[39mself\u001b[39m\u001b[39m.\u001b[39m\u001b[39m__class__\u001b[39m\u001b[39m.\u001b[39m\u001b[39m__name__\u001b[39m\n",
      "File \u001b[1;32m~\\AppData\\Roaming\\Python\\Python39\\site-packages\\dataprofiler\\data_readers\\base_data.py:70\u001b[0m, in \u001b[0;36mBaseData.data\u001b[1;34m(self)\u001b[0m\n\u001b[0;32m     68\u001b[0m \u001b[39m\"\"\"Return data.\"\"\"\u001b[39;00m\n\u001b[0;32m     69\u001b[0m \u001b[39mif\u001b[39;00m \u001b[39mself\u001b[39m\u001b[39m.\u001b[39m_data \u001b[39mis\u001b[39;00m \u001b[39mNone\u001b[39;00m:\n\u001b[1;32m---> 70\u001b[0m     \u001b[39mself\u001b[39;49m\u001b[39m.\u001b[39;49m_load_data()\n\u001b[0;32m     72\u001b[0m allowed_data_formats \u001b[39m=\u001b[39m \u001b[39mlist\u001b[39m(\u001b[39mself\u001b[39m\u001b[39m.\u001b[39m_data_formats\u001b[39m.\u001b[39mkeys())\n\u001b[0;32m     73\u001b[0m \u001b[39mif\u001b[39;00m \u001b[39mnot\u001b[39;00m \u001b[39mself\u001b[39m\u001b[39m.\u001b[39m_selected_data_format:\n",
      "File \u001b[1;32m~\\AppData\\Roaming\\Python\\Python39\\site-packages\\dataprofiler\\data_readers\\structured_mixins.py:60\u001b[0m, in \u001b[0;36mSpreadSheetDataMixin._load_data\u001b[1;34m(self, data)\u001b[0m\n\u001b[0;32m     58\u001b[0m         \u001b[39mraise\u001b[39;00m \u001b[39mValueError\u001b[39;00m(\u001b[39m\"\u001b[39m\u001b[39mInput data type is not string or pandas.DataFrame\u001b[39m\u001b[39m\"\u001b[39m)\n\u001b[0;32m     59\u001b[0m \u001b[39melif\u001b[39;00m \u001b[39mself\u001b[39m\u001b[39m.\u001b[39minput_file_path:\n\u001b[1;32m---> 60\u001b[0m     \u001b[39mself\u001b[39m\u001b[39m.\u001b[39m_data \u001b[39m=\u001b[39m \u001b[39mself\u001b[39;49m\u001b[39m.\u001b[39;49m_load_data_from_file(\u001b[39mself\u001b[39;49m\u001b[39m.\u001b[39;49minput_file_path)\n\u001b[0;32m     61\u001b[0m \u001b[39melse\u001b[39;00m:\n\u001b[0;32m     62\u001b[0m     \u001b[39mraise\u001b[39;00m \u001b[39mValueError\u001b[39;00m(\u001b[39m\"\u001b[39m\u001b[39mNo data to load.\u001b[39m\u001b[39m\"\u001b[39m)\n",
      "File \u001b[1;32m~\\AppData\\Roaming\\Python\\Python39\\site-packages\\dataprofiler\\data_readers\\csv_data.py:597\u001b[0m, in \u001b[0;36mCSVData._load_data_from_file\u001b[1;34m(self, input_file_path)\u001b[0m\n\u001b[0;32m    594\u001b[0m         \u001b[39mif\u001b[39;00m count_delimiter_last \u001b[39m==\u001b[39m num_lines_read:\n\u001b[0;32m    595\u001b[0m             \u001b[39mself\u001b[39m\u001b[39m.\u001b[39m_delimiter \u001b[39m=\u001b[39m \u001b[39mNone\u001b[39;00m\n\u001b[1;32m--> 597\u001b[0m \u001b[39mreturn\u001b[39;00m data_utils\u001b[39m.\u001b[39;49mread_csv_df(\n\u001b[0;32m    598\u001b[0m     input_file_path,\n\u001b[0;32m    599\u001b[0m     \u001b[39mself\u001b[39;49m\u001b[39m.\u001b[39;49mdelimiter,\n\u001b[0;32m    600\u001b[0m     cast(Optional[\u001b[39mint\u001b[39;49m], \u001b[39mself\u001b[39;49m\u001b[39m.\u001b[39;49mheader),\n\u001b[0;32m    601\u001b[0m     \u001b[39mself\u001b[39;49m\u001b[39m.\u001b[39;49mselected_columns,\n\u001b[0;32m    602\u001b[0m     read_in_string\u001b[39m=\u001b[39;49m\u001b[39mTrue\u001b[39;49;00m,\n\u001b[0;32m    603\u001b[0m     encoding\u001b[39m=\u001b[39;49mcast(\u001b[39mstr\u001b[39;49m, \u001b[39mself\u001b[39;49m\u001b[39m.\u001b[39;49mfile_encoding),\n\u001b[0;32m    604\u001b[0m )\n",
      "File \u001b[1;32m~\\AppData\\Roaming\\Python\\Python39\\site-packages\\dataprofiler\\data_readers\\data_utils.py:324\u001b[0m, in \u001b[0;36mread_csv_df\u001b[1;34m(file_path, delimiter, header, selected_columns, read_in_string, encoding)\u001b[0m\n\u001b[0;32m    321\u001b[0m     is_buf_wrapped \u001b[39m=\u001b[39m \u001b[39mTrue\u001b[39;00m\n\u001b[0;32m    323\u001b[0m fo \u001b[39m=\u001b[39m pd\u001b[39m.\u001b[39mread_csv(file_path, \u001b[39m*\u001b[39m\u001b[39m*\u001b[39margs)\n\u001b[1;32m--> 324\u001b[0m data \u001b[39m=\u001b[39m fo\u001b[39m.\u001b[39;49mread()\n\u001b[0;32m    326\u001b[0m \u001b[39m# if the buffer was wrapped, detach it before returning\u001b[39;00m\n\u001b[0;32m    327\u001b[0m \u001b[39mif\u001b[39;00m is_buf_wrapped:\n",
      "File \u001b[1;32mc:\\ProgramData\\Anaconda3\\lib\\site-packages\\pandas\\io\\parsers\\readers.py:1778\u001b[0m, in \u001b[0;36mTextFileReader.read\u001b[1;34m(self, nrows)\u001b[0m\n\u001b[0;32m   1771\u001b[0m nrows \u001b[39m=\u001b[39m validate_integer(\u001b[39m\"\u001b[39m\u001b[39mnrows\u001b[39m\u001b[39m\"\u001b[39m, nrows)\n\u001b[0;32m   1772\u001b[0m \u001b[39mtry\u001b[39;00m:\n\u001b[0;32m   1773\u001b[0m     \u001b[39m# error: \"ParserBase\" has no attribute \"read\"\u001b[39;00m\n\u001b[0;32m   1774\u001b[0m     (\n\u001b[0;32m   1775\u001b[0m         index,\n\u001b[0;32m   1776\u001b[0m         columns,\n\u001b[0;32m   1777\u001b[0m         col_dict,\n\u001b[1;32m-> 1778\u001b[0m     ) \u001b[39m=\u001b[39m \u001b[39mself\u001b[39;49m\u001b[39m.\u001b[39;49m_engine\u001b[39m.\u001b[39;49mread(  \u001b[39m# type: ignore[attr-defined]\u001b[39;49;00m\n\u001b[0;32m   1779\u001b[0m         nrows\n\u001b[0;32m   1780\u001b[0m     )\n\u001b[0;32m   1781\u001b[0m \u001b[39mexcept\u001b[39;00m \u001b[39mException\u001b[39;00m:\n\u001b[0;32m   1782\u001b[0m     \u001b[39mself\u001b[39m\u001b[39m.\u001b[39mclose()\n",
      "File \u001b[1;32mc:\\ProgramData\\Anaconda3\\lib\\site-packages\\pandas\\io\\parsers\\c_parser_wrapper.py:230\u001b[0m, in \u001b[0;36mCParserWrapper.read\u001b[1;34m(self, nrows)\u001b[0m\n\u001b[0;32m    228\u001b[0m \u001b[39mtry\u001b[39;00m:\n\u001b[0;32m    229\u001b[0m     \u001b[39mif\u001b[39;00m \u001b[39mself\u001b[39m\u001b[39m.\u001b[39mlow_memory:\n\u001b[1;32m--> 230\u001b[0m         chunks \u001b[39m=\u001b[39m \u001b[39mself\u001b[39;49m\u001b[39m.\u001b[39;49m_reader\u001b[39m.\u001b[39;49mread_low_memory(nrows)\n\u001b[0;32m    231\u001b[0m         \u001b[39m# destructive to chunks\u001b[39;00m\n\u001b[0;32m    232\u001b[0m         data \u001b[39m=\u001b[39m _concatenate_chunks(chunks)\n",
      "File \u001b[1;32mc:\\ProgramData\\Anaconda3\\lib\\site-packages\\pandas\\_libs\\parsers.pyx:808\u001b[0m, in \u001b[0;36mpandas._libs.parsers.TextReader.read_low_memory\u001b[1;34m()\u001b[0m\n",
      "File \u001b[1;32mc:\\ProgramData\\Anaconda3\\lib\\site-packages\\pandas\\_libs\\parsers.pyx:866\u001b[0m, in \u001b[0;36mpandas._libs.parsers.TextReader._read_rows\u001b[1;34m()\u001b[0m\n",
      "File \u001b[1;32mc:\\ProgramData\\Anaconda3\\lib\\site-packages\\pandas\\_libs\\parsers.pyx:852\u001b[0m, in \u001b[0;36mpandas._libs.parsers.TextReader._tokenize_rows\u001b[1;34m()\u001b[0m\n",
      "File \u001b[1;32mc:\\ProgramData\\Anaconda3\\lib\\site-packages\\pandas\\_libs\\parsers.pyx:1973\u001b[0m, in \u001b[0;36mpandas._libs.parsers.raise_parser_error\u001b[1;34m()\u001b[0m\n",
      "\u001b[1;31mParserError\u001b[0m: Error tokenizing data. C error: Expected 2 fields in line 4, saw 3\n"
     ]
    }
   ],
   "source": [
    "data = CSVData('./text.xlsx', options={'encoding': 'latin1'})\n",
    "\n",
    "profile = dp.Profiler(data, options=profiler_options)\n",
    "\n",
    "report = profile.report(report_options={\"output_format\":\"serializable\"})"
   ]
  },
  {
   "attachments": {},
   "cell_type": "markdown",
   "metadata": {},
   "source": [
    "### 4. Gini Impurity NoneType\n",
    "\n",
    "*Affected*: 5, 12, 19, 20-35, 37-61, 63-65"
   ]
  },
  {
   "attachments": {},
   "cell_type": "markdown",
   "metadata": {},
   "source": [
    "**Solution**: check if 'gini_impurity' is not none in report"
   ]
  },
  {
   "cell_type": "code",
   "execution_count": 36,
   "metadata": {},
   "outputs": [
    {
     "name": "stdout",
     "output_type": "stream",
     "text": [
      "../datasets\\uciml_breast-cancer-wisconsin-data\\data.csv\n",
      "Traceback (most recent call last):\n",
      "  File \"D:\\meng-code\\kaggle_data\\attribute_extraction\\attribute_extraction.py\", line 504, in extract_file_attributes_to_df\n",
      "    attribute_dict = create_attributes_from_file_report(data, report)\n",
      "  File \"D:\\meng-code\\kaggle_data\\attribute_extraction\\attribute_extraction.py\", line 341, in create_attributes_from_file_report\n",
      "    add_accuracy_attributes(attributes_dict, feature_stats)\n",
      "  File \"D:\\meng-code\\kaggle_data\\attribute_extraction\\attribute_extraction.py\", line 299, in add_accuracy_attributes\n",
      "    dict['avg_gini_impurity_categ_features'] += feature_stats['statistics']['gini_impurity']\n",
      "TypeError: unsupported operand type(s) for +=: 'float' and 'NoneType'\n",
      "\n"
     ]
    }
   ],
   "source": [
    "i = 5\n",
    "print(df_exc['file_path'][i])\n",
    "print(df_exc['exception_str'][i])"
   ]
  },
  {
   "attachments": {},
   "cell_type": "markdown",
   "metadata": {},
   "source": [
    "### 5. predictions_list[index] = list(predictions[index][:sentence_length]) MemoryError\n",
    "\n",
    "*Affected*: 11"
   ]
  },
  {
   "cell_type": "code",
   "execution_count": 103,
   "metadata": {},
   "outputs": [
    {
     "name": "stdout",
     "output_type": "stream",
     "text": [
      "../datasets\\himanshupoddar_zomato-bangalore-restaurants\\zomato.csv\n",
      "Traceback (most recent call last):\n",
      "  File \"D:\\meng-code\\kaggle_data\\attribute_extraction\\attribute_extraction.py\", line 501, in extract_file_attributes_to_df\n",
      "    report, sample_size = create_profiler_report(data, profiler_options)\n",
      "  File \"D:\\meng-code\\kaggle_data\\attribute_extraction\\attribute_extraction.py\", line 323, in create_profiler_report\n",
      "    profile = Profiler(data, samples_per_update=sample_size, options=profiler_options)\n",
      "  File \"C:\\Users\\radue\\AppData\\Roaming\\Python\\Python39\\site-packages\\dataprofiler\\profilers\\profile_builder.py\", line 2804, in __new__\n",
      "    return UnstructuredProfiler(\n",
      "  File \"C:\\Users\\radue\\AppData\\Roaming\\Python\\Python39\\site-packages\\dataprofiler\\profilers\\profile_builder.py\", line 1161, in __init__\n",
      "    self.update_profile(data)\n",
      "  File \"C:\\Users\\radue\\AppData\\Roaming\\Python\\Python39\\site-packages\\dataprofiler\\profilers\\profile_builder.py\", line 908, in update_profile\n",
      "    self._update_profile_from_chunk(data, sample_size, min_true_samples)\n",
      "  File \"C:\\Users\\radue\\AppData\\Roaming\\Python\\Python39\\site-packages\\dataprofiler\\profilers\\profile_builder.py\", line 1447, in _update_profile_from_chunk\n",
      "    self._profile = UnstructuredCompiler(data, options=self.options, pool=pool)\n",
      "  File \"C:\\Users\\radue\\AppData\\Roaming\\Python\\Python39\\site-packages\\dataprofiler\\profilers\\column_profile_compilers.py\", line 51, in __init__\n",
      "    self._create_profile(df_series, options, pool)\n",
      "  File \"C:\\Users\\radue\\AppData\\Roaming\\Python\\Python39\\site-packages\\dataprofiler\\profilers\\column_profile_compilers.py\", line 107, in _create_profile\n",
      "    self.update_profile(df_series, pool)\n",
      "  File \"C:\\Users\\radue\\AppData\\Roaming\\Python\\Python39\\site-packages\\dataprofiler\\profilers\\column_profile_compilers.py\", line 177, in update_profile\n",
      "    self._profiles[profile_type].update(df_series)\n",
      "  File \"C:\\Users\\radue\\AppData\\Roaming\\Python\\Python39\\site-packages\\dataprofiler\\profilers\\unstructured_labeler_profile.py\", line 197, in update\n",
      "    self._update_helper(df_series, profile)\n",
      "  File \"C:\\Users\\radue\\AppData\\Roaming\\Python\\Python39\\site-packages\\dataprofiler\\profilers\\utils.py\", line 681, in wrapper\n",
      "    result = method(self, *args, **kw)\n",
      "  File \"C:\\Users\\radue\\AppData\\Roaming\\Python\\Python39\\site-packages\\dataprofiler\\profilers\\unstructured_labeler_profile.py\", line 167, in _update_helper\n",
      "    predictions = self.data_labeler.predict(df_series_clean)\n",
      "  File \"C:\\Users\\radue\\AppData\\Roaming\\Python\\Python39\\site-packages\\dataprofiler\\labelers\\base_data_labeler.py\", line 315, in predict\n",
      "    results = self._model.predict(\n",
      "  File \"C:\\Users\\radue\\AppData\\Roaming\\Python\\Python39\\site-packages\\dataprofiler\\labelers\\character_level_cnn_model.py\", line 844, in predict\n",
      "    predictions_list[index] = list(predictions[index][:sentence_length])\n",
      "MemoryError\n",
      "\n"
     ]
    }
   ],
   "source": [
    "i = 11\n",
    "print(df_exc['file_path'][i])\n",
    "print(df_exc['exception_str'][i])"
   ]
  },
  {
   "attachments": {},
   "cell_type": "markdown",
   "metadata": {},
   "source": [
    "### 6. dict['num_pii_entities'] += predicted_label_ratios[pii_label] * dict['n_rows'] TypeError: 'NoneType' object is not subscriptable"
   ]
  },
  {
   "cell_type": "code",
   "execution_count": 13,
   "metadata": {},
   "outputs": [
    {
     "name": "stderr",
     "output_type": "stream",
     "text": [
      "C:\\Users\\radue\\AppData\\Roaming\\Python\\Python39\\site-packages\\dataprofiler\\profilers\\profiler_options.py:529: UserWarning: StructuredOptions.text.numeric_stats: The numeric stats are completely disabled.\n",
      "  warnings.warn(\n"
     ]
    },
    {
     "name": "stdout",
     "output_type": "stream",
     "text": [
      "INFO:DataProfiler.profilers.profile_builder: Finding the Null values in the columns... \n"
     ]
    },
    {
     "name": "stderr",
     "output_type": "stream",
     "text": [
      "100%|██████████| 33/33 [00:00<00:00, 95.76it/s] "
     ]
    },
    {
     "name": "stdout",
     "output_type": "stream",
     "text": [
      "INFO:DataProfiler.profilers.profile_builder: Calculating the statistics... \n"
     ]
    },
    {
     "name": "stderr",
     "output_type": "stream",
     "text": [
      "\n",
      "100%|██████████| 33/33 [00:16<00:00,  2.02it/s]\n"
     ]
    }
   ],
   "source": [
    "\n",
    "from dataprofiler.data_readers.csv_data import CSVData\n",
    "\n",
    "data = pd.read_csv('./datasets/uciml_breast-cancer-wisconsin-data/data.csv', on_bad_lines='skip')\n",
    "\n",
    "profile = dp.Profiler(data=dp.Data(data=data, data_type='csv'), options=profiler_options)\n",
    "\n",
    "report = profile.report(report_options={\"output_format\":\"serializable\"})"
   ]
  },
  {
   "cell_type": "code",
   "execution_count": 8,
   "metadata": {},
   "outputs": [
    {
     "data": {
      "text/plain": [
       "{'UNKNOWN': 0.0,\n",
       " 'ADDRESS': 0.0,\n",
       " 'BAN': 0.0,\n",
       " 'CREDIT_CARD': 0.0,\n",
       " 'DATE': 0.0,\n",
       " 'TIME': 0.054481546572934976,\n",
       " 'DATETIME': 0.0,\n",
       " 'DRIVERS_LICENSE': 0.18101933216168717,\n",
       " 'EMAIL_ADDRESS': 0.0,\n",
       " 'UUID': 0.0,\n",
       " 'HASH_OR_KEY': 0.0,\n",
       " 'IPV4': 0.0,\n",
       " 'IPV6': 0.0,\n",
       " 'MAC_ADDRESS': 0.0,\n",
       " 'PERSON': 0.0,\n",
       " 'PHONE_NUMBER': 0.0,\n",
       " 'SSN': 0.019332161687170474,\n",
       " 'URL': 0.0,\n",
       " 'US_STATE': 0.0,\n",
       " 'INTEGER': 0.7451669595782073,\n",
       " 'FLOAT': 0.0,\n",
       " 'QUANTITY': 0.0,\n",
       " 'ORDINAL': 0.0}"
      ]
     },
     "execution_count": 8,
     "metadata": {},
     "output_type": "execute_result"
    }
   ],
   "source": [
    "report['data_stats'][0]['statistics']['data_label_representation']"
   ]
  },
  {
   "cell_type": "code",
   "execution_count": 15,
   "metadata": {},
   "outputs": [],
   "source": [
    "def hi():\n",
    "    return 1"
   ]
  },
  {
   "cell_type": "code",
   "execution_count": 17,
   "metadata": {},
   "outputs": [
    {
     "data": {
      "text/plain": [
       "'hi'"
      ]
     },
     "execution_count": 17,
     "metadata": {},
     "output_type": "execute_result"
    }
   ],
   "source": [
    "str(hi.__name__)"
   ]
  },
  {
   "cell_type": "code",
   "execution_count": null,
   "metadata": {},
   "outputs": [],
   "source": []
  },
  {
   "attachments": {},
   "cell_type": "markdown",
   "metadata": {},
   "source": [
    "Tests"
   ]
  },
  {
   "cell_type": "code",
   "execution_count": 22,
   "metadata": {},
   "outputs": [
    {
     "data": {
      "text/html": [
       "<div>\n",
       "<style scoped>\n",
       "    .dataframe tbody tr th:only-of-type {\n",
       "        vertical-align: middle;\n",
       "    }\n",
       "\n",
       "    .dataframe tbody tr th {\n",
       "        vertical-align: top;\n",
       "    }\n",
       "\n",
       "    .dataframe thead th {\n",
       "        text-align: right;\n",
       "    }\n",
       "</style>\n",
       "<table border=\"1\" class=\"dataframe\">\n",
       "  <thead>\n",
       "    <tr style=\"text-align: right;\">\n",
       "      <th></th>\n",
       "      <th>movieId</th>\n",
       "      <th>imdbId</th>\n",
       "      <th>tmdbId</th>\n",
       "    </tr>\n",
       "  </thead>\n",
       "  <tbody>\n",
       "    <tr>\n",
       "      <th>0</th>\n",
       "      <td>1</td>\n",
       "      <td>114709</td>\n",
       "      <td>862.0</td>\n",
       "    </tr>\n",
       "    <tr>\n",
       "      <th>1</th>\n",
       "      <td>2</td>\n",
       "      <td>113497</td>\n",
       "      <td>8844.0</td>\n",
       "    </tr>\n",
       "    <tr>\n",
       "      <th>2</th>\n",
       "      <td>3</td>\n",
       "      <td>113228</td>\n",
       "      <td>15602.0</td>\n",
       "    </tr>\n",
       "    <tr>\n",
       "      <th>3</th>\n",
       "      <td>4</td>\n",
       "      <td>114885</td>\n",
       "      <td>31357.0</td>\n",
       "    </tr>\n",
       "    <tr>\n",
       "      <th>4</th>\n",
       "      <td>5</td>\n",
       "      <td>113041</td>\n",
       "      <td>11862.0</td>\n",
       "    </tr>\n",
       "    <tr>\n",
       "      <th>...</th>\n",
       "      <td>...</td>\n",
       "      <td>...</td>\n",
       "      <td>...</td>\n",
       "    </tr>\n",
       "    <tr>\n",
       "      <th>45838</th>\n",
       "      <td>176269</td>\n",
       "      <td>6209470</td>\n",
       "      <td>439050.0</td>\n",
       "    </tr>\n",
       "    <tr>\n",
       "      <th>45839</th>\n",
       "      <td>176271</td>\n",
       "      <td>2028550</td>\n",
       "      <td>111109.0</td>\n",
       "    </tr>\n",
       "    <tr>\n",
       "      <th>45840</th>\n",
       "      <td>176273</td>\n",
       "      <td>303758</td>\n",
       "      <td>67758.0</td>\n",
       "    </tr>\n",
       "    <tr>\n",
       "      <th>45841</th>\n",
       "      <td>176275</td>\n",
       "      <td>8536</td>\n",
       "      <td>227506.0</td>\n",
       "    </tr>\n",
       "    <tr>\n",
       "      <th>45842</th>\n",
       "      <td>176279</td>\n",
       "      <td>6980792</td>\n",
       "      <td>461257.0</td>\n",
       "    </tr>\n",
       "  </tbody>\n",
       "</table>\n",
       "<p>45843 rows × 3 columns</p>\n",
       "</div>"
      ],
      "text/plain": [
       "       movieId   imdbId    tmdbId\n",
       "0            1   114709     862.0\n",
       "1            2   113497    8844.0\n",
       "2            3   113228   15602.0\n",
       "3            4   114885   31357.0\n",
       "4            5   113041   11862.0\n",
       "...        ...      ...       ...\n",
       "45838   176269  6209470  439050.0\n",
       "45839   176271  2028550  111109.0\n",
       "45840   176273   303758   67758.0\n",
       "45841   176275     8536  227506.0\n",
       "45842   176279  6980792  461257.0\n",
       "\n",
       "[45843 rows x 3 columns]"
      ]
     },
     "metadata": {},
     "output_type": "display_data"
    },
    {
     "name": "stderr",
     "output_type": "stream",
     "text": [
      "C:\\Users\\radue\\AppData\\Roaming\\Python\\Python39\\site-packages\\dataprofiler\\profilers\\profiler_options.py:529: UserWarning: StructuredOptions.text.numeric_stats: The numeric stats are completely disabled.\n",
      "  warnings.warn(\n"
     ]
    },
    {
     "name": "stdout",
     "output_type": "stream",
     "text": [
      "INFO:DataProfiler.profilers.profile_builder: Finding the Null values in the columns... \n"
     ]
    },
    {
     "name": "stderr",
     "output_type": "stream",
     "text": [
      "C:\\Users\\radue\\AppData\\Roaming\\Python\\Python39\\site-packages\\dataprofiler\\profilers\\profile_builder.py:2580: UserWarning: The data will be profiled with a sample size of 9168. All statistics will be based on this subsample and not the whole dataset.\n",
      "  warnings.warn(\n",
      "100%|██████████| 3/3 [00:00<00:00,  3.95it/s]"
     ]
    },
    {
     "name": "stdout",
     "output_type": "stream",
     "text": [
      "INFO:DataProfiler.profilers.profile_builder: Calculating the statistics... \n"
     ]
    },
    {
     "name": "stderr",
     "output_type": "stream",
     "text": [
      "\n",
      "100%|██████████| 3/3 [00:23<00:00,  7.68s/it]\n"
     ]
    }
   ],
   "source": [
    "df = pd.read_csv('./datasets/rounakbanik_the-movies-dataset/links.csv')\n",
    "\n",
    "display(df)\n",
    "\n",
    "data = dp.Data(data=df, data_type='csv')\n",
    "\n",
    "profile = dp.Profiler(data, options=profiler_options)\n",
    "\n",
    "report = profile.report(report_options={\"output_format\":\"serializable\"})\n"
   ]
  },
  {
   "cell_type": "code",
   "execution_count": 23,
   "metadata": {},
   "outputs": [
    {
     "data": {
      "text/plain": [
       "{'global_stats': {'samples_used': 9168,\n",
       "  'column_count': 3,\n",
       "  'row_count': 45843,\n",
       "  'row_has_null_ratio': 0.00512652705061082,\n",
       "  'row_is_null_ratio': 0.0,\n",
       "  'unique_row_ratio': 1.0,\n",
       "  'duplicate_row_count': 0,\n",
       "  'file_type': 'csv',\n",
       "  'encoding': 'UTF-8',\n",
       "  'correlation_matrix': None,\n",
       "  'chi2_matrix': None,\n",
       "  'profile_schema': {'movieId': [0], 'imdbId': [1], 'tmdbId': [2]},\n",
       "  'times': {'row_stats': 0.026999950408935547}},\n",
       " 'data_stats': [{'column_name': 'movieId',\n",
       "   'data_type': 'int',\n",
       "   'data_label': 'TIME|INTEGER',\n",
       "   'categorical': False,\n",
       "   'order': 'random',\n",
       "   'samples': ['70157', '146116', '3909', '166794', '147752'],\n",
       "   'statistics': {'min': None,\n",
       "    'max': None,\n",
       "    'mode': [4848.6449999999995],\n",
       "    'median': 108799.78159999989,\n",
       "    'sum': 883585946.0,\n",
       "    'mean': 96377.17561082024,\n",
       "    'variance': 3309529409.190815,\n",
       "    'stddev': 57528.5095338895,\n",
       "    'skewness': -0.42414632630462756,\n",
       "    'kurtosis': -1.1745093245411065,\n",
       "    'histogram': {'bin_edges': [1.0,\n",
       "      9278.78947368421,\n",
       "      18556.57894736842,\n",
       "      27834.36842105263,\n",
       "      37112.15789473684,\n",
       "      46389.94736842105,\n",
       "      55667.73684210526,\n",
       "      64945.526315789466,\n",
       "      74223.31578947368,\n",
       "      83501.1052631579,\n",
       "      92778.8947368421,\n",
       "      102056.6842105263,\n",
       "      111334.47368421052,\n",
       "      120612.26315789473,\n",
       "      129890.05263157893,\n",
       "      139167.84210526315,\n",
       "      148445.63157894736,\n",
       "      157723.42105263157,\n",
       "      167001.2105263158,\n",
       "      176279.0],\n",
       "     'bin_counts': [1690.0,\n",
       "      0.0,\n",
       "      256.0,\n",
       "      154.0,\n",
       "      142.0,\n",
       "      234.0,\n",
       "      228.0,\n",
       "      308.0,\n",
       "      336.0,\n",
       "      438.0,\n",
       "      418.0,\n",
       "      509.0,\n",
       "      501.0,\n",
       "      537.0,\n",
       "      600.0,\n",
       "      707.0,\n",
       "      664.0,\n",
       "      672.0,\n",
       "      774.0]},\n",
       "    'quantiles': {0: 47996.69181818175,\n",
       "     1: 108799.78159999989,\n",
       "     2: 146047.32299999995},\n",
       "    'median_abs_deviation': 43150.50402666666,\n",
       "    'num_zeros': 0,\n",
       "    'num_negatives': 0,\n",
       "    'times': {'sum': 0.0010001659393310547,\n",
       "     'variance': 0.0009992122650146484,\n",
       "     'skewness': 0.014416694641113281,\n",
       "     'kurtosis': 0.006003141403198242,\n",
       "     'histogram_and_quantiles': 0.011998176574707031,\n",
       "     'data_labeler_predict': 0.5009148120880127},\n",
       "    'unique_count': 9168,\n",
       "    'unique_ratio': 1.0,\n",
       "    'avg_predictions': {'UNKNOWN': 0.0,\n",
       "     'ADDRESS': 0.05233333333333336,\n",
       "     'BAN': 0.0,\n",
       "     'CREDIT_CARD': 0.0,\n",
       "     'DATE': 0.0,\n",
       "     'TIME': 0.5526666666666668,\n",
       "     'DATETIME': 0.0,\n",
       "     'DRIVERS_LICENSE': 0.00016666666666666666,\n",
       "     'EMAIL_ADDRESS': 0.0,\n",
       "     'UUID': 0.0,\n",
       "     'HASH_OR_KEY': 0.0,\n",
       "     'IPV4': 0.0,\n",
       "     'IPV6': 0.0,\n",
       "     'MAC_ADDRESS': 0.0,\n",
       "     'PERSON': 0.0,\n",
       "     'PHONE_NUMBER': 0.0,\n",
       "     'SSN': 0.0,\n",
       "     'URL': 0.0,\n",
       "     'US_STATE': 0.0,\n",
       "     'INTEGER': 0.39380000000000015,\n",
       "     'FLOAT': 0.0003333333333333333,\n",
       "     'QUANTITY': 0.0005,\n",
       "     'ORDINAL': 0.0002},\n",
       "    'data_label_representation': {'UNKNOWN': 0.0,\n",
       "     'ADDRESS': 0.041,\n",
       "     'BAN': 0.0,\n",
       "     'CREDIT_CARD': 0.0,\n",
       "     'DATE': 0.0,\n",
       "     'TIME': 0.553,\n",
       "     'DATETIME': 0.0,\n",
       "     'DRIVERS_LICENSE': 0.0,\n",
       "     'EMAIL_ADDRESS': 0.0,\n",
       "     'UUID': 0.0,\n",
       "     'HASH_OR_KEY': 0.0,\n",
       "     'IPV4': 0.0,\n",
       "     'IPV6': 0.0,\n",
       "     'MAC_ADDRESS': 0.0,\n",
       "     'PERSON': 0.0,\n",
       "     'PHONE_NUMBER': 0.0,\n",
       "     'SSN': 0.0,\n",
       "     'URL': 0.0,\n",
       "     'US_STATE': 0.0,\n",
       "     'INTEGER': 0.405,\n",
       "     'FLOAT': 0.0,\n",
       "     'QUANTITY': 0.001,\n",
       "     'ORDINAL': 0.0},\n",
       "    'sample_size': 9168,\n",
       "    'null_count': 0,\n",
       "    'null_types': [],\n",
       "    'null_types_index': {},\n",
       "    'data_type_representation': {'datetime': 0.49247382198952877,\n",
       "     'int': 1.0,\n",
       "     'float': 1.0,\n",
       "     'text': 1.0}}},\n",
       "  {'column_name': 'imdbId',\n",
       "   'data_type': 'int',\n",
       "   'data_label': 'INTEGER|DRIVERS_LICENSE',\n",
       "   'categorical': False,\n",
       "   'order': 'random',\n",
       "   'samples': ['24703', '321353', '960143', '1031225', '55024'],\n",
       "   'statistics': {'min': None,\n",
       "    'max': None,\n",
       "    'mode': [66928.0],\n",
       "    'median': 276058.648648649,\n",
       "    'sum': 9046466261.0,\n",
       "    'mean': 986743.7021160559,\n",
       "    'variance': 1872901978541.1697,\n",
       "    'stddev': 1368540.090220659,\n",
       "    'skewness': 1.7718982010232853,\n",
       "    'kurtosis': 2.6338973360257327,\n",
       "    'histogram': {'bin_edges': [10.0,\n",
       "      135471.53846153847,\n",
       "      270933.07692307694,\n",
       "      406394.6153846154,\n",
       "      541856.1538461539,\n",
       "      677317.6923076924,\n",
       "      812779.2307692308,\n",
       "      948240.7692307692,\n",
       "      1083702.3076923077,\n",
       "      1219163.8461538462,\n",
       "      1354625.3846153847,\n",
       "      1490086.9230769232,\n",
       "      1625548.4615384615,\n",
       "      1761010.0,\n",
       "      1896471.5384615385,\n",
       "      2031933.076923077,\n",
       "      2167394.6153846155,\n",
       "      2302856.153846154,\n",
       "      2438317.6923076925,\n",
       "      2573779.230769231,\n",
       "      2709240.7692307695,\n",
       "      2844702.307692308,\n",
       "      2980163.8461538465,\n",
       "      3115625.384615385,\n",
       "      3251086.923076923,\n",
       "      3386548.4615384615,\n",
       "      3522010.0,\n",
       "      3657471.5384615385,\n",
       "      3792933.076923077,\n",
       "      3928394.6153846155,\n",
       "      4063856.153846154,\n",
       "      4199317.692307693,\n",
       "      4334779.230769231,\n",
       "      4470240.769230769,\n",
       "      4605702.307692308,\n",
       "      4741163.846153846,\n",
       "      4876625.384615385,\n",
       "      5012086.923076923,\n",
       "      5147548.461538462,\n",
       "      5283010.0,\n",
       "      5418471.538461539,\n",
       "      5553933.076923077,\n",
       "      5689394.615384616,\n",
       "      5824856.153846154,\n",
       "      5960317.692307693,\n",
       "      6095779.230769231,\n",
       "      6231240.76923077,\n",
       "      6366702.307692308,\n",
       "      6502163.846153846,\n",
       "      6637625.384615385,\n",
       "      6773086.923076923,\n",
       "      6908548.461538462,\n",
       "      7044010.0],\n",
       "     'bin_counts': [3861.0,\n",
       "      697.0,\n",
       "      672.0,\n",
       "      526.0,\n",
       "      0.0,\n",
       "      105.0,\n",
       "      175.0,\n",
       "      197.0,\n",
       "      209.0,\n",
       "      226.0,\n",
       "      172.0,\n",
       "      179.0,\n",
       "      205.0,\n",
       "      169.0,\n",
       "      103.0,\n",
       "      148.0,\n",
       "      149.0,\n",
       "      144.0,\n",
       "      78.0,\n",
       "      58.0,\n",
       "      44.0,\n",
       "      60.0,\n",
       "      83.0,\n",
       "      75.0,\n",
       "      66.0,\n",
       "      65.0,\n",
       "      69.0,\n",
       "      61.0,\n",
       "      63.0,\n",
       "      39.0,\n",
       "      59.0,\n",
       "      32.0,\n",
       "      41.0,\n",
       "      33.0,\n",
       "      25.0,\n",
       "      19.0,\n",
       "      31.0,\n",
       "      33.0,\n",
       "      30.0,\n",
       "      27.0,\n",
       "      28.0,\n",
       "      22.0,\n",
       "      15.0,\n",
       "      20.0,\n",
       "      11.0,\n",
       "      11.0,\n",
       "      13.0,\n",
       "      3.0,\n",
       "      4.0,\n",
       "      7.0,\n",
       "      3.0,\n",
       "      3.0]},\n",
       "    'quantiles': {0: 83202.52044609666,\n",
       "     1: 276058.648648649,\n",
       "     2: 1517287.6000000027},\n",
       "    'median_abs_deviation': 220094.59676398835,\n",
       "    'num_zeros': 0,\n",
       "    'num_negatives': 0,\n",
       "    'times': {'sum': 0.0010058879852294922,\n",
       "     'variance': 0.0009946823120117188,\n",
       "     'skewness': 0.02000141143798828,\n",
       "     'kurtosis': 0.013999462127685547,\n",
       "     'histogram_and_quantiles': 0.01900029182434082,\n",
       "     'data_labeler_predict': 0.29200005531311035},\n",
       "    'unique_count': 9168,\n",
       "    'unique_ratio': 1.0,\n",
       "    'avg_predictions': {'UNKNOWN': 0.0,\n",
       "     'ADDRESS': 0.011049999999999994,\n",
       "     'BAN': 0.0,\n",
       "     'CREDIT_CARD': 0.0,\n",
       "     'DATE': 0.0,\n",
       "     'TIME': 0.18320000000000006,\n",
       "     'DATETIME': 0.0,\n",
       "     'DRIVERS_LICENSE': 0.318,\n",
       "     'EMAIL_ADDRESS': 0.0,\n",
       "     'UUID': 0.0,\n",
       "     'HASH_OR_KEY': 0.0,\n",
       "     'IPV4': 0.0,\n",
       "     'IPV6': 0.0,\n",
       "     'MAC_ADDRESS': 0.0,\n",
       "     'PERSON': 0.0,\n",
       "     'PHONE_NUMBER': 0.0,\n",
       "     'SSN': 0.0,\n",
       "     'URL': 0.0,\n",
       "     'US_STATE': 0.0,\n",
       "     'INTEGER': 0.48669285714285776,\n",
       "     'FLOAT': 0.0,\n",
       "     'QUANTITY': 0.0008571428571428571,\n",
       "     'ORDINAL': 0.0002},\n",
       "    'data_label_representation': {'UNKNOWN': 0.0,\n",
       "     'ADDRESS': 0.003,\n",
       "     'BAN': 0.0,\n",
       "     'CREDIT_CARD': 0.0,\n",
       "     'DATE': 0.0,\n",
       "     'TIME': 0.177,\n",
       "     'DATETIME': 0.0,\n",
       "     'DRIVERS_LICENSE': 0.318,\n",
       "     'EMAIL_ADDRESS': 0.0,\n",
       "     'UUID': 0.0,\n",
       "     'HASH_OR_KEY': 0.0,\n",
       "     'IPV4': 0.0,\n",
       "     'IPV6': 0.0,\n",
       "     'MAC_ADDRESS': 0.0,\n",
       "     'PERSON': 0.0,\n",
       "     'PHONE_NUMBER': 0.0,\n",
       "     'SSN': 0.0,\n",
       "     'URL': 0.0,\n",
       "     'US_STATE': 0.0,\n",
       "     'INTEGER': 0.501,\n",
       "     'FLOAT': 0.0,\n",
       "     'QUANTITY': 0.001,\n",
       "     'ORDINAL': 0.0},\n",
       "    'sample_size': 9168,\n",
       "    'null_count': 0,\n",
       "    'null_types': [],\n",
       "    'null_types_index': {},\n",
       "    'data_type_representation': {'datetime': 0.41023123909249565,\n",
       "     'int': 1.0,\n",
       "     'float': 1.0,\n",
       "     'text': 1.0}}},\n",
       "  {'column_name': 'tmdbId',\n",
       "   'data_type': 'int',\n",
       "   'data_label': 'FLOAT',\n",
       "   'categorical': False,\n",
       "   'order': 'random',\n",
       "   'samples': ['126749.0', '12537.0', '388410.0', '61330.0', '76809.0'],\n",
       "   'statistics': {'min': None,\n",
       "    'max': None,\n",
       "    'mode': [10588.6275],\n",
       "    'median': 58686.03725000002,\n",
       "    'sum': 988302761.0,\n",
       "    'mean': 108354.64981909878,\n",
       "    'variance': 12845541699.038868,\n",
       "    'stddev': 113338.17405904715,\n",
       "    'skewness': 1.2851740555994142,\n",
       "    'kurtosis': 0.5410759804590675,\n",
       "    'histogram': {'bin_edges': [33.0,\n",
       "      12378.763157894737,\n",
       "      24724.526315789473,\n",
       "      37070.28947368421,\n",
       "      49416.05263157895,\n",
       "      61761.81578947368,\n",
       "      74107.57894736843,\n",
       "      86453.34210526316,\n",
       "      98799.1052631579,\n",
       "      111144.86842105263,\n",
       "      123490.63157894736,\n",
       "      135836.3947368421,\n",
       "      148182.15789473685,\n",
       "      160527.92105263157,\n",
       "      172873.68421052632,\n",
       "      185219.44736842104,\n",
       "      197565.2105263158,\n",
       "      209910.97368421053,\n",
       "      222256.73684210525,\n",
       "      234602.5,\n",
       "      246948.26315789472,\n",
       "      259294.02631578947,\n",
       "      271639.7894736842,\n",
       "      283985.55263157893,\n",
       "      296331.3157894737,\n",
       "      308677.0789473684,\n",
       "      321022.84210526315,\n",
       "      333368.60526315786,\n",
       "      345714.36842105264,\n",
       "      358060.13157894736,\n",
       "      370405.8947368421,\n",
       "      382751.65789473685,\n",
       "      395097.4210526316,\n",
       "      407443.1842105263,\n",
       "      419788.94736842107,\n",
       "      432134.7105263158,\n",
       "      444480.4736842105,\n",
       "      456826.2368421053,\n",
       "      469172.0],\n",
       "     'bin_counts': [1114.0,\n",
       "      1032.0,\n",
       "      920.0,\n",
       "      992.0,\n",
       "      633.0,\n",
       "      433.0,\n",
       "      484.0,\n",
       "      296.0,\n",
       "      255.0,\n",
       "      226.0,\n",
       "      204.0,\n",
       "      165.0,\n",
       "      145.0,\n",
       "      123.0,\n",
       "      123.0,\n",
       "      107.0,\n",
       "      108.0,\n",
       "      113.0,\n",
       "      98.0,\n",
       "      100.0,\n",
       "      140.0,\n",
       "      116.0,\n",
       "      110.0,\n",
       "      123.0,\n",
       "      88.0,\n",
       "      86.0,\n",
       "      105.0,\n",
       "      117.0,\n",
       "      93.0,\n",
       "      85.0,\n",
       "      96.0,\n",
       "      72.0,\n",
       "      50.0,\n",
       "      74.0,\n",
       "      35.0,\n",
       "      27.0,\n",
       "      28.0,\n",
       "      5.0]},\n",
       "    'quantiles': {0: 26507.366750000005,\n",
       "     1: 58686.03725000002,\n",
       "     2: 155948.41453124842},\n",
       "    'median_abs_deviation': 43850.28016666668,\n",
       "    'num_zeros': 0,\n",
       "    'num_negatives': 0,\n",
       "    'times': {'sum': 0.0,\n",
       "     'variance': 0.0,\n",
       "     'skewness': 0.004998207092285156,\n",
       "     'kurtosis': 0.005000114440917969,\n",
       "     'histogram_and_quantiles': 0.014000654220581055,\n",
       "     'data_labeler_predict': 0.2820007801055908},\n",
       "    'unique_count': 9120,\n",
       "    'unique_ratio': 0.999890362898805,\n",
       "    'avg_predictions': {'UNKNOWN': 0.0,\n",
       "     'ADDRESS': 0.0,\n",
       "     'BAN': 0.0,\n",
       "     'CREDIT_CARD': 0.0,\n",
       "     'DATE': 0.0,\n",
       "     'TIME': 0.005166666666666666,\n",
       "     'DATETIME': 0.0,\n",
       "     'DRIVERS_LICENSE': 0.0,\n",
       "     'EMAIL_ADDRESS': 0.0,\n",
       "     'UUID': 0.0,\n",
       "     'HASH_OR_KEY': 0.0,\n",
       "     'IPV4': 0.0,\n",
       "     'IPV6': 0.0,\n",
       "     'MAC_ADDRESS': 0.0,\n",
       "     'PERSON': 0.0,\n",
       "     'PHONE_NUMBER': 0.0,\n",
       "     'SSN': 0.0,\n",
       "     'URL': 0.0,\n",
       "     'US_STATE': 0.0,\n",
       "     'INTEGER': 0.0,\n",
       "     'FLOAT': 0.9948333333333333,\n",
       "     'QUANTITY': 0.0,\n",
       "     'ORDINAL': 0.0},\n",
       "    'data_label_representation': {'UNKNOWN': 0.0,\n",
       "     'ADDRESS': 0.0,\n",
       "     'BAN': 0.0,\n",
       "     'CREDIT_CARD': 0.0,\n",
       "     'DATE': 0.0,\n",
       "     'TIME': 0.004,\n",
       "     'DATETIME': 0.0,\n",
       "     'DRIVERS_LICENSE': 0.0,\n",
       "     'EMAIL_ADDRESS': 0.0,\n",
       "     'UUID': 0.0,\n",
       "     'HASH_OR_KEY': 0.0,\n",
       "     'IPV4': 0.0,\n",
       "     'IPV6': 0.0,\n",
       "     'MAC_ADDRESS': 0.0,\n",
       "     'PERSON': 0.0,\n",
       "     'PHONE_NUMBER': 0.0,\n",
       "     'SSN': 0.0,\n",
       "     'URL': 0.0,\n",
       "     'US_STATE': 0.0,\n",
       "     'INTEGER': 0.0,\n",
       "     'FLOAT': 0.996,\n",
       "     'QUANTITY': 0.0,\n",
       "     'ORDINAL': 0.0},\n",
       "    'sample_size': 9168,\n",
       "    'null_count': 47,\n",
       "    'null_types': ['nan'],\n",
       "    'null_types_index': {'nan': [708,\n",
       "      1110,\n",
       "      1749,\n",
       "      2186,\n",
       "      3958,\n",
       "      8941,\n",
       "      11410,\n",
       "      13742,\n",
       "      14485,\n",
       "      14737,\n",
       "      15024,\n",
       "      15593,\n",
       "      15613,\n",
       "      16136,\n",
       "      16523,\n",
       "      16842,\n",
       "      16862,\n",
       "      16980,\n",
       "      18112,\n",
       "      18201,\n",
       "      18269,\n",
       "      18716,\n",
       "      18875,\n",
       "      19189,\n",
       "      19402,\n",
       "      19577,\n",
       "      19587,\n",
       "      19993,\n",
       "      20046,\n",
       "      20677,\n",
       "      20752,\n",
       "      21872,\n",
       "      21886,\n",
       "      22088,\n",
       "      22100,\n",
       "      22165,\n",
       "      22541,\n",
       "      22557,\n",
       "      22703,\n",
       "      22984,\n",
       "      23191,\n",
       "      23307,\n",
       "      23483,\n",
       "      23542,\n",
       "      24346,\n",
       "      24802,\n",
       "      28570]},\n",
       "    'data_type_representation': {'datetime': 0.0,\n",
       "     'int': 1.0,\n",
       "     'float': 1.0,\n",
       "     'text': 1.0}}}]}"
      ]
     },
     "execution_count": 23,
     "metadata": {},
     "output_type": "execute_result"
    }
   ],
   "source": [
    "report"
   ]
  },
  {
   "cell_type": "code",
   "execution_count": null,
   "metadata": {},
   "outputs": [],
   "source": []
  }
 ],
 "metadata": {
  "kernelspec": {
   "display_name": "base",
   "language": "python",
   "name": "python3"
  },
  "language_info": {
   "codemirror_mode": {
    "name": "ipython",
    "version": 3
   },
   "file_extension": ".py",
   "mimetype": "text/x-python",
   "name": "python",
   "nbconvert_exporter": "python",
   "pygments_lexer": "ipython3",
   "version": "3.9.16"
  },
  "orig_nbformat": 4
 },
 "nbformat": 4,
 "nbformat_minor": 2
}
